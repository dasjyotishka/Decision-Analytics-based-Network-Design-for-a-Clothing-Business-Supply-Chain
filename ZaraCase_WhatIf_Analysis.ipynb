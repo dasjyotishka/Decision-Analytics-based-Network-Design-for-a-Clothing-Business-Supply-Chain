{
  "cells": [
    {
      "cell_type": "markdown",
      "source": [
        "# The Zara Case: What-if Analysis"
      ],
      "metadata": {
        "id": "N8-7mZyYBlI-"
      }
    },
    {
      "cell_type": "markdown",
      "source": [
        "Install gurobipy and import all the functions in gurobipy."
      ],
      "metadata": {
        "id": "8mgGSjk2Dhtr"
      }
    },
    {
      "cell_type": "code",
      "execution_count": 36,
      "metadata": {
        "id": "__b7wUQQ18ED",
        "colab": {
          "base_uri": "https://localhost:8080/"
        },
        "outputId": "0c7d426d-7984-46bd-e7ab-954bec7249b5"
      },
      "outputs": [
        {
          "output_type": "stream",
          "name": "stdout",
          "text": [
            "Looking in indexes: https://pypi.org/simple, https://us-python.pkg.dev/colab-wheels/public/simple/\n",
            "Requirement already satisfied: gurobipy in /usr/local/lib/python3.10/dist-packages (10.0.1)\n"
          ]
        }
      ],
      "source": [
        "# Installation\n",
        "%pip install gurobipy"
      ]
    },
    {
      "cell_type": "code",
      "source": [
        "# Import all the functions\n",
        "from gurobipy import *\n",
        "import numpy as np"
      ],
      "metadata": {
        "id": "rztARf_MJh2o"
      },
      "execution_count": 37,
      "outputs": []
    },
    {
      "cell_type": "code",
      "source": [
        "from google.colab import drive\n",
        "drive.mount('/content/drive')"
      ],
      "metadata": {
        "colab": {
          "base_uri": "https://localhost:8080/"
        },
        "id": "FKvo-2yQTllU",
        "outputId": "c359ced6-287a-416b-d6b3-8ad2b17bf00c"
      },
      "execution_count": 38,
      "outputs": [
        {
          "output_type": "stream",
          "name": "stdout",
          "text": [
            "Drive already mounted at /content/drive; to attempt to forcibly remount, call drive.mount(\"/content/drive\", force_remount=True).\n"
          ]
        }
      ]
    },
    {
      "cell_type": "markdown",
      "source": [
        "Import and prepare the data"
      ],
      "metadata": {
        "id": "S0VP8P_kBqUk"
      }
    },
    {
      "cell_type": "code",
      "source": [
        "# Import the data from an Excel file\n",
        "\n",
        "# import the library called Pandas first\n",
        "import pandas as pd\n",
        "\n",
        "# then, upload the data and save them into \"data\"\n",
        "data = pd.read_excel('/content/drive/MyDrive/data_for_what_if.xlsx', index_col=0)"
      ],
      "metadata": {
        "id": "Y4PtPzGP4YJf"
      },
      "execution_count": 39,
      "outputs": []
    },
    {
      "cell_type": "code",
      "source": [
        "data"
      ],
      "metadata": {
        "colab": {
          "base_uri": "https://localhost:8080/",
          "height": 539
        },
        "id": "wjYG7CN5CUdj",
        "outputId": "242a3625-e32b-4568-c8dd-f819776b42b9"
      },
      "execution_count": 40,
      "outputs": [
        {
          "output_type": "execute_result",
          "data": {
            "text/plain": [
              "                Lille   Paris   Bordeaux  Toulouse   Strasbourg     Lyon  \\\n",
              "Travel Times                                                               \n",
              "Madrid           21.3     18.1      15.1       11.4        23.5     17.7   \n",
              "Lille             0.1      3.2      11.4       12.8         7.5      9.9   \n",
              "Orléans           5.0      1.9       6.6        7.9         8.4      6.6   \n",
              "Montélimar       11.9      8.7       9.0        5.6         9.1      2.1   \n",
              "Châlon            8.1      4.9       8.6        8.6         5.2      1.8   \n",
              "Piacenza         16.2     13.2      14.8       12.6         7.8      7.0   \n",
              "Bordeaux         15.1      8.4       0.1        3.5        13.8      7.9   \n",
              "Barcelone        17.9     14.8       9.1        5.6        16.1      9.1   \n",
              "Rome             23.1     20.1      21.3       17.8        15.1     13.9   \n",
              "Demand        20600.0  45000.0   21700.0    22600.0     13500.0  39200.0   \n",
              "\n",
              "              Marseille     Nice  Geneva   Torino  ...  Barcelona   Madrid   \\\n",
              "Travel Times                                       ...                        \n",
              "Madrid             15.7     18.0    19.7     21.0  ...        8.9       0.2   \n",
              "Lille              14.3     16.5    10.7     14.2  ...       17.9      21.2   \n",
              "Orléans            10.8     13.1     7.7     11.1  ...       13.1      16.4   \n",
              "Montélimar          2.4      4.6     4.2      5.5  ...        7.1      15.6   \n",
              "Châlon              6.3      8.5     2.9      6.3  ...       10.9      18.3   \n",
              "Piacenza            7.5      4.6     5.6      2.6  ...       14.1      22.6   \n",
              "Bordeaux            9.2     11.5    10.0     12.3  ...        9.1       9.8   \n",
              "Barcelone           7.2      9.5    11.2     12.5  ...        0.2       8.9   \n",
              "Rome               12.8      9.8    12.5      9.5  ...       19.3      27.8   \n",
              "Demand          30300.0  18500.0  9900.0  15800.0  ...    86900.0  108600.0   \n",
              "\n",
              "               Bilbao  Valencia  Sevilla    Porto   Lisboa  Capacity  \\\n",
              "Travel Times                                                           \n",
              "Madrid            5.7       5.1      6.0      8.1      9.0  123200.0   \n",
              "Lille            16.2      22.7     27.1     25.7     27.9   88000.0   \n",
              "Orléans          11.4      17.9     22.3     20.9     23.1  112000.0   \n",
              "Montélimar       11.8      11.9     19.6     21.3     23.5   73600.0   \n",
              "Châlon           13.3      15.8     23.4     22.8     25.0   64000.0   \n",
              "Piacenza         18.9      18.9     26.6     28.3     30.5  137600.0   \n",
              "Bordeaux          4.8      11.1     15.7     14.3     16.4   50000.0   \n",
              "Barcelone         8.7       5.0     12.7     16.6     17.8   50000.0   \n",
              "Rome             24.1      24.2     31.8     33.6     35.7   50000.0   \n",
              "Demand        19900.0   20100.0  26100.0  32500.0  35000.0       NaN   \n",
              "\n",
              "              Exten./Construct. Cost  Delivery Cost Budget  \n",
              "Travel Times                                                \n",
              "Madrid                           0.1                4500.0  \n",
              "Lille                            0.1                   NaN  \n",
              "Orléans                          0.5                   NaN  \n",
              "Montélimar                       0.1                   NaN  \n",
              "Châlon                           0.2                   NaN  \n",
              "Piacenza                         0.5                   NaN  \n",
              "Bordeaux                      4000.0                   NaN  \n",
              "Barcelone                    15000.0                   NaN  \n",
              "Rome                         20000.0                   NaN  \n",
              "Demand                           NaN                   NaN  \n",
              "\n",
              "[10 rows x 24 columns]"
            ],
            "text/html": [
              "\n",
              "  <div id=\"df-64f7e72f-049c-43c8-b1d0-23b299bf3126\">\n",
              "    <div class=\"colab-df-container\">\n",
              "      <div>\n",
              "<style scoped>\n",
              "    .dataframe tbody tr th:only-of-type {\n",
              "        vertical-align: middle;\n",
              "    }\n",
              "\n",
              "    .dataframe tbody tr th {\n",
              "        vertical-align: top;\n",
              "    }\n",
              "\n",
              "    .dataframe thead th {\n",
              "        text-align: right;\n",
              "    }\n",
              "</style>\n",
              "<table border=\"1\" class=\"dataframe\">\n",
              "  <thead>\n",
              "    <tr style=\"text-align: right;\">\n",
              "      <th></th>\n",
              "      <th>Lille</th>\n",
              "      <th>Paris</th>\n",
              "      <th>Bordeaux</th>\n",
              "      <th>Toulouse</th>\n",
              "      <th>Strasbourg</th>\n",
              "      <th>Lyon</th>\n",
              "      <th>Marseille</th>\n",
              "      <th>Nice</th>\n",
              "      <th>Geneva</th>\n",
              "      <th>Torino</th>\n",
              "      <th>...</th>\n",
              "      <th>Barcelona</th>\n",
              "      <th>Madrid</th>\n",
              "      <th>Bilbao</th>\n",
              "      <th>Valencia</th>\n",
              "      <th>Sevilla</th>\n",
              "      <th>Porto</th>\n",
              "      <th>Lisboa</th>\n",
              "      <th>Capacity</th>\n",
              "      <th>Exten./Construct. Cost</th>\n",
              "      <th>Delivery Cost Budget</th>\n",
              "    </tr>\n",
              "    <tr>\n",
              "      <th>Travel Times</th>\n",
              "      <th></th>\n",
              "      <th></th>\n",
              "      <th></th>\n",
              "      <th></th>\n",
              "      <th></th>\n",
              "      <th></th>\n",
              "      <th></th>\n",
              "      <th></th>\n",
              "      <th></th>\n",
              "      <th></th>\n",
              "      <th></th>\n",
              "      <th></th>\n",
              "      <th></th>\n",
              "      <th></th>\n",
              "      <th></th>\n",
              "      <th></th>\n",
              "      <th></th>\n",
              "      <th></th>\n",
              "      <th></th>\n",
              "      <th></th>\n",
              "      <th></th>\n",
              "    </tr>\n",
              "  </thead>\n",
              "  <tbody>\n",
              "    <tr>\n",
              "      <th>Madrid</th>\n",
              "      <td>21.3</td>\n",
              "      <td>18.1</td>\n",
              "      <td>15.1</td>\n",
              "      <td>11.4</td>\n",
              "      <td>23.5</td>\n",
              "      <td>17.7</td>\n",
              "      <td>15.7</td>\n",
              "      <td>18.0</td>\n",
              "      <td>19.7</td>\n",
              "      <td>21.0</td>\n",
              "      <td>...</td>\n",
              "      <td>8.9</td>\n",
              "      <td>0.2</td>\n",
              "      <td>5.7</td>\n",
              "      <td>5.1</td>\n",
              "      <td>6.0</td>\n",
              "      <td>8.1</td>\n",
              "      <td>9.0</td>\n",
              "      <td>123200.0</td>\n",
              "      <td>0.1</td>\n",
              "      <td>4500.0</td>\n",
              "    </tr>\n",
              "    <tr>\n",
              "      <th>Lille</th>\n",
              "      <td>0.1</td>\n",
              "      <td>3.2</td>\n",
              "      <td>11.4</td>\n",
              "      <td>12.8</td>\n",
              "      <td>7.5</td>\n",
              "      <td>9.9</td>\n",
              "      <td>14.3</td>\n",
              "      <td>16.5</td>\n",
              "      <td>10.7</td>\n",
              "      <td>14.2</td>\n",
              "      <td>...</td>\n",
              "      <td>17.9</td>\n",
              "      <td>21.2</td>\n",
              "      <td>16.2</td>\n",
              "      <td>22.7</td>\n",
              "      <td>27.1</td>\n",
              "      <td>25.7</td>\n",
              "      <td>27.9</td>\n",
              "      <td>88000.0</td>\n",
              "      <td>0.1</td>\n",
              "      <td>NaN</td>\n",
              "    </tr>\n",
              "    <tr>\n",
              "      <th>Orléans</th>\n",
              "      <td>5.0</td>\n",
              "      <td>1.9</td>\n",
              "      <td>6.6</td>\n",
              "      <td>7.9</td>\n",
              "      <td>8.4</td>\n",
              "      <td>6.6</td>\n",
              "      <td>10.8</td>\n",
              "      <td>13.1</td>\n",
              "      <td>7.7</td>\n",
              "      <td>11.1</td>\n",
              "      <td>...</td>\n",
              "      <td>13.1</td>\n",
              "      <td>16.4</td>\n",
              "      <td>11.4</td>\n",
              "      <td>17.9</td>\n",
              "      <td>22.3</td>\n",
              "      <td>20.9</td>\n",
              "      <td>23.1</td>\n",
              "      <td>112000.0</td>\n",
              "      <td>0.5</td>\n",
              "      <td>NaN</td>\n",
              "    </tr>\n",
              "    <tr>\n",
              "      <th>Montélimar</th>\n",
              "      <td>11.9</td>\n",
              "      <td>8.7</td>\n",
              "      <td>9.0</td>\n",
              "      <td>5.6</td>\n",
              "      <td>9.1</td>\n",
              "      <td>2.1</td>\n",
              "      <td>2.4</td>\n",
              "      <td>4.6</td>\n",
              "      <td>4.2</td>\n",
              "      <td>5.5</td>\n",
              "      <td>...</td>\n",
              "      <td>7.1</td>\n",
              "      <td>15.6</td>\n",
              "      <td>11.8</td>\n",
              "      <td>11.9</td>\n",
              "      <td>19.6</td>\n",
              "      <td>21.3</td>\n",
              "      <td>23.5</td>\n",
              "      <td>73600.0</td>\n",
              "      <td>0.1</td>\n",
              "      <td>NaN</td>\n",
              "    </tr>\n",
              "    <tr>\n",
              "      <th>Châlon</th>\n",
              "      <td>8.1</td>\n",
              "      <td>4.9</td>\n",
              "      <td>8.6</td>\n",
              "      <td>8.6</td>\n",
              "      <td>5.2</td>\n",
              "      <td>1.8</td>\n",
              "      <td>6.3</td>\n",
              "      <td>8.5</td>\n",
              "      <td>2.9</td>\n",
              "      <td>6.3</td>\n",
              "      <td>...</td>\n",
              "      <td>10.9</td>\n",
              "      <td>18.3</td>\n",
              "      <td>13.3</td>\n",
              "      <td>15.8</td>\n",
              "      <td>23.4</td>\n",
              "      <td>22.8</td>\n",
              "      <td>25.0</td>\n",
              "      <td>64000.0</td>\n",
              "      <td>0.2</td>\n",
              "      <td>NaN</td>\n",
              "    </tr>\n",
              "    <tr>\n",
              "      <th>Piacenza</th>\n",
              "      <td>16.2</td>\n",
              "      <td>13.2</td>\n",
              "      <td>14.8</td>\n",
              "      <td>12.6</td>\n",
              "      <td>7.8</td>\n",
              "      <td>7.0</td>\n",
              "      <td>7.5</td>\n",
              "      <td>4.6</td>\n",
              "      <td>5.6</td>\n",
              "      <td>2.6</td>\n",
              "      <td>...</td>\n",
              "      <td>14.1</td>\n",
              "      <td>22.6</td>\n",
              "      <td>18.9</td>\n",
              "      <td>18.9</td>\n",
              "      <td>26.6</td>\n",
              "      <td>28.3</td>\n",
              "      <td>30.5</td>\n",
              "      <td>137600.0</td>\n",
              "      <td>0.5</td>\n",
              "      <td>NaN</td>\n",
              "    </tr>\n",
              "    <tr>\n",
              "      <th>Bordeaux</th>\n",
              "      <td>15.1</td>\n",
              "      <td>8.4</td>\n",
              "      <td>0.1</td>\n",
              "      <td>3.5</td>\n",
              "      <td>13.8</td>\n",
              "      <td>7.9</td>\n",
              "      <td>9.2</td>\n",
              "      <td>11.5</td>\n",
              "      <td>10.0</td>\n",
              "      <td>12.3</td>\n",
              "      <td>...</td>\n",
              "      <td>9.1</td>\n",
              "      <td>9.8</td>\n",
              "      <td>4.8</td>\n",
              "      <td>11.1</td>\n",
              "      <td>15.7</td>\n",
              "      <td>14.3</td>\n",
              "      <td>16.4</td>\n",
              "      <td>50000.0</td>\n",
              "      <td>4000.0</td>\n",
              "      <td>NaN</td>\n",
              "    </tr>\n",
              "    <tr>\n",
              "      <th>Barcelone</th>\n",
              "      <td>17.9</td>\n",
              "      <td>14.8</td>\n",
              "      <td>9.1</td>\n",
              "      <td>5.6</td>\n",
              "      <td>16.1</td>\n",
              "      <td>9.1</td>\n",
              "      <td>7.2</td>\n",
              "      <td>9.5</td>\n",
              "      <td>11.2</td>\n",
              "      <td>12.5</td>\n",
              "      <td>...</td>\n",
              "      <td>0.2</td>\n",
              "      <td>8.9</td>\n",
              "      <td>8.7</td>\n",
              "      <td>5.0</td>\n",
              "      <td>12.7</td>\n",
              "      <td>16.6</td>\n",
              "      <td>17.8</td>\n",
              "      <td>50000.0</td>\n",
              "      <td>15000.0</td>\n",
              "      <td>NaN</td>\n",
              "    </tr>\n",
              "    <tr>\n",
              "      <th>Rome</th>\n",
              "      <td>23.1</td>\n",
              "      <td>20.1</td>\n",
              "      <td>21.3</td>\n",
              "      <td>17.8</td>\n",
              "      <td>15.1</td>\n",
              "      <td>13.9</td>\n",
              "      <td>12.8</td>\n",
              "      <td>9.8</td>\n",
              "      <td>12.5</td>\n",
              "      <td>9.5</td>\n",
              "      <td>...</td>\n",
              "      <td>19.3</td>\n",
              "      <td>27.8</td>\n",
              "      <td>24.1</td>\n",
              "      <td>24.2</td>\n",
              "      <td>31.8</td>\n",
              "      <td>33.6</td>\n",
              "      <td>35.7</td>\n",
              "      <td>50000.0</td>\n",
              "      <td>20000.0</td>\n",
              "      <td>NaN</td>\n",
              "    </tr>\n",
              "    <tr>\n",
              "      <th>Demand</th>\n",
              "      <td>20600.0</td>\n",
              "      <td>45000.0</td>\n",
              "      <td>21700.0</td>\n",
              "      <td>22600.0</td>\n",
              "      <td>13500.0</td>\n",
              "      <td>39200.0</td>\n",
              "      <td>30300.0</td>\n",
              "      <td>18500.0</td>\n",
              "      <td>9900.0</td>\n",
              "      <td>15800.0</td>\n",
              "      <td>...</td>\n",
              "      <td>86900.0</td>\n",
              "      <td>108600.0</td>\n",
              "      <td>19900.0</td>\n",
              "      <td>20100.0</td>\n",
              "      <td>26100.0</td>\n",
              "      <td>32500.0</td>\n",
              "      <td>35000.0</td>\n",
              "      <td>NaN</td>\n",
              "      <td>NaN</td>\n",
              "      <td>NaN</td>\n",
              "    </tr>\n",
              "  </tbody>\n",
              "</table>\n",
              "<p>10 rows × 24 columns</p>\n",
              "</div>\n",
              "      <button class=\"colab-df-convert\" onclick=\"convertToInteractive('df-64f7e72f-049c-43c8-b1d0-23b299bf3126')\"\n",
              "              title=\"Convert this dataframe to an interactive table.\"\n",
              "              style=\"display:none;\">\n",
              "        \n",
              "  <svg xmlns=\"http://www.w3.org/2000/svg\" height=\"24px\"viewBox=\"0 0 24 24\"\n",
              "       width=\"24px\">\n",
              "    <path d=\"M0 0h24v24H0V0z\" fill=\"none\"/>\n",
              "    <path d=\"M18.56 5.44l.94 2.06.94-2.06 2.06-.94-2.06-.94-.94-2.06-.94 2.06-2.06.94zm-11 1L8.5 8.5l.94-2.06 2.06-.94-2.06-.94L8.5 2.5l-.94 2.06-2.06.94zm10 10l.94 2.06.94-2.06 2.06-.94-2.06-.94-.94-2.06-.94 2.06-2.06.94z\"/><path d=\"M17.41 7.96l-1.37-1.37c-.4-.4-.92-.59-1.43-.59-.52 0-1.04.2-1.43.59L10.3 9.45l-7.72 7.72c-.78.78-.78 2.05 0 2.83L4 21.41c.39.39.9.59 1.41.59.51 0 1.02-.2 1.41-.59l7.78-7.78 2.81-2.81c.8-.78.8-2.07 0-2.86zM5.41 20L4 18.59l7.72-7.72 1.47 1.35L5.41 20z\"/>\n",
              "  </svg>\n",
              "      </button>\n",
              "      \n",
              "  <style>\n",
              "    .colab-df-container {\n",
              "      display:flex;\n",
              "      flex-wrap:wrap;\n",
              "      gap: 12px;\n",
              "    }\n",
              "\n",
              "    .colab-df-convert {\n",
              "      background-color: #E8F0FE;\n",
              "      border: none;\n",
              "      border-radius: 50%;\n",
              "      cursor: pointer;\n",
              "      display: none;\n",
              "      fill: #1967D2;\n",
              "      height: 32px;\n",
              "      padding: 0 0 0 0;\n",
              "      width: 32px;\n",
              "    }\n",
              "\n",
              "    .colab-df-convert:hover {\n",
              "      background-color: #E2EBFA;\n",
              "      box-shadow: 0px 1px 2px rgba(60, 64, 67, 0.3), 0px 1px 3px 1px rgba(60, 64, 67, 0.15);\n",
              "      fill: #174EA6;\n",
              "    }\n",
              "\n",
              "    [theme=dark] .colab-df-convert {\n",
              "      background-color: #3B4455;\n",
              "      fill: #D2E3FC;\n",
              "    }\n",
              "\n",
              "    [theme=dark] .colab-df-convert:hover {\n",
              "      background-color: #434B5C;\n",
              "      box-shadow: 0px 1px 3px 1px rgba(0, 0, 0, 0.15);\n",
              "      filter: drop-shadow(0px 1px 2px rgba(0, 0, 0, 0.3));\n",
              "      fill: #FFFFFF;\n",
              "    }\n",
              "  </style>\n",
              "\n",
              "      <script>\n",
              "        const buttonEl =\n",
              "          document.querySelector('#df-64f7e72f-049c-43c8-b1d0-23b299bf3126 button.colab-df-convert');\n",
              "        buttonEl.style.display =\n",
              "          google.colab.kernel.accessAllowed ? 'block' : 'none';\n",
              "\n",
              "        async function convertToInteractive(key) {\n",
              "          const element = document.querySelector('#df-64f7e72f-049c-43c8-b1d0-23b299bf3126');\n",
              "          const dataTable =\n",
              "            await google.colab.kernel.invokeFunction('convertToInteractive',\n",
              "                                                     [key], {});\n",
              "          if (!dataTable) return;\n",
              "\n",
              "          const docLinkHtml = 'Like what you see? Visit the ' +\n",
              "            '<a target=\"_blank\" href=https://colab.research.google.com/notebooks/data_table.ipynb>data table notebook</a>'\n",
              "            + ' to learn more about interactive tables.';\n",
              "          element.innerHTML = '';\n",
              "          dataTable['output_type'] = 'display_data';\n",
              "          await google.colab.output.renderOutput(dataTable, element);\n",
              "          const docLink = document.createElement('div');\n",
              "          docLink.innerHTML = docLinkHtml;\n",
              "          element.appendChild(docLink);\n",
              "        }\n",
              "      </script>\n",
              "    </div>\n",
              "  </div>\n",
              "  "
            ]
          },
          "metadata": {},
          "execution_count": 40
        }
      ]
    },
    {
      "cell_type": "code",
      "source": [
        "# Select the times, demand, capacity, cost, budget from the excel file\n",
        "\n",
        "demand=data.iloc[-1,:-3]\n",
        "time=data.iloc[:-1,:-3]\n",
        "capacity=data.iloc[:-1,-3]\n",
        "cost=data.iloc[:-1,-2]\n",
        "budget=data.iloc[0,-1]\n",
        "\n",
        "\n",
        "# The number of Distribution Centers (DCs)is equal to the number of rows\n",
        "num_centers = len(time.index)\n",
        "\n",
        "# The number of aggregated stores is equal to the number of columns\n",
        "num_cities = len(time.columns) "
      ],
      "metadata": {
        "id": "PMArmQXLANO-"
      },
      "execution_count": 41,
      "outputs": []
    },
    {
      "cell_type": "code",
      "source": [
        "print(num_cities)"
      ],
      "metadata": {
        "colab": {
          "base_uri": "https://localhost:8080/"
        },
        "id": "Xv1mp9EBpn3a",
        "outputId": "3136d953-2242-4303-cfaf-c321fcafa796"
      },
      "execution_count": 42,
      "outputs": [
        {
          "output_type": "stream",
          "name": "stdout",
          "text": [
            "21\n"
          ]
        }
      ]
    },
    {
      "cell_type": "code",
      "source": [
        "print(num_centers)"
      ],
      "metadata": {
        "colab": {
          "base_uri": "https://localhost:8080/"
        },
        "id": "URxhoqGrvIMS",
        "outputId": "8cd451ec-343b-4223-f80f-8ac8182d022d"
      },
      "execution_count": 43,
      "outputs": [
        {
          "output_type": "stream",
          "name": "stdout",
          "text": [
            "9\n"
          ]
        }
      ]
    },
    {
      "cell_type": "markdown",
      "source": [
        "## Question 3: **What-if analysis:** Show what the multi-source solution becomes for a set of alternative scenarios that look relevant to you (change some data)."
      ],
      "metadata": {
        "id": "3gzgsLmNRyAs"
      }
    },
    {
      "cell_type": "markdown",
      "source": [
        "###Case 1: The extension can provide between 10000 and 13000 extra items instead of between 8000 and 13000 items"
      ],
      "metadata": {
        "id": "94w7y6T84-mN"
      }
    },
    {
      "cell_type": "markdown",
      "source": [
        "Initializing the model and defining the decision variables"
      ],
      "metadata": {
        "id": "a5HHIHs6NlwJ"
      }
    },
    {
      "cell_type": "code",
      "source": [
        "# Initialize the model\n",
        "model3_1 = Model('zara-Q3_1')\n",
        "\n",
        "# Create the variable x[i] = 1 if DC i will be extended or constructed\n",
        "x = model3_1.addVars(num_centers, vtype=GRB.BINARY, name='extension_construct')\n",
        "\n",
        "# create the variable y[i] to compute the extension unit if i in range(0,6)\n",
        "y = model3_1.addVars(6, vtype=GRB.INTEGER, name='extension_unit')\n",
        "\n",
        "# Create the variable quan[i,j] which denotes the quantity served to city j is from DC i\n",
        "quant = model3_1.addVars(num_centers, num_cities, vtype=GRB.INTEGER, name='quantity_deliver_site')"
      ],
      "metadata": {
        "id": "DAv1T_bYfaI8"
      },
      "execution_count": 44,
      "outputs": []
    },
    {
      "cell_type": "code",
      "source": [
        "# Read in the constants\n",
        "\n",
        "# m[i] is the cost of construction or extension\n",
        "m = np.array([i for i in cost])\n",
        "print('cost: ',m)\n",
        "\n",
        "# t[i,j] is the delivery time from i to j\n",
        "t = np.array([[j for j in i] for i in time.values])\n",
        "print('Dcs and Cities: ',t.shape)\n",
        "\n",
        "# c[i] is the capacity of sites\n",
        "c = np.array([i for i in capacity])\n",
        "print('capacities: ',c)\n",
        "\n",
        "# d[j] is the demand of cities\n",
        "d = np.array([i for i in demand])\n",
        "print('demands: ',d)"
      ],
      "metadata": {
        "id": "xZKSeakbSvxM",
        "colab": {
          "base_uri": "https://localhost:8080/"
        },
        "outputId": "058452c5-bd87-44bf-eef8-dfb137cce18b"
      },
      "execution_count": 45,
      "outputs": [
        {
          "output_type": "stream",
          "name": "stdout",
          "text": [
            "cost:  [1.0e-01 1.0e-01 5.0e-01 1.0e-01 2.0e-01 5.0e-01 4.0e+03 1.5e+04 2.0e+04]\n",
            "Dcs and Cities:  (9, 21)\n",
            "capacities:  [123200.  88000. 112000.  73600.  64000. 137600.  50000.  50000.  50000.]\n",
            "demands:  [ 20600.  45000.  21700.  22600.  13500.  39200.  30300.  18500.   9900.\n",
            "  15800.  23600.   6700.  50200.  18300.  86900. 108600.  19900.  20100.\n",
            "  26100.  32500.  35000.]\n"
          ]
        }
      ]
    },
    {
      "cell_type": "markdown",
      "source": [
        "Adding all the constraints in the model"
      ],
      "metadata": {
        "id": "cpg29Lk7NgiG"
      }
    },
    {
      "cell_type": "code",
      "source": [
        "# Constraint 1: Zara can construct or extend no more than 3 sites\n",
        "model3_1.addConstr(quicksum(x[i] for i in range(num_centers)) <= 3) \n",
        "\n",
        "# Constraint 2: If Zara decides to extend, then 10000<= yi <= 13000, else yi = 0\n",
        "for i in range(6):\n",
        "    model3_1.addConstr(y[i] >= 10000*x[i])\n",
        "model3_1.addConstrs(y[i] <= 13000*x[i] for i in range(6))\n",
        "\n",
        "# Constraint 3: Multiple source supplying. The summation of the supplies from multiple sources for a city should be greater than its demand\n",
        "for j in range(num_cities):\n",
        "    model3_1.addConstr(quicksum(quant[i,j] for i in range(num_centers)) >= demand[j])\n",
        "\n",
        "# Constraint 4: The total monthly delivery costs do not exceed a budget of 4500 euros\n",
        "model3_1.addConstr(quicksum(quant[i, j] * t[i, j] * 0.001 for i in range(num_centers) for j in range(num_cities)) <= 4500)\n",
        "\n",
        "\n",
        "# Constraint 5: The supplies must exceed the demands\n",
        "model3_1.addConstrs(quicksum(quant[i,j] for j in range(num_cities)) <= capacity[i]+y[i] for i in range(6)) \n",
        "model3_1.addConstrs(quicksum(quant[i,j] for j in range(num_cities)) <= capacity[i]*x[i] for i in range(6,9))\n",
        "\n",
        "model3_1.update()\n"
      ],
      "metadata": {
        "id": "H1FVnWW5fdR1"
      },
      "execution_count": 46,
      "outputs": []
    },
    {
      "cell_type": "markdown",
      "source": [
        "Set the objective function and call the solver"
      ],
      "metadata": {
        "id": "LMNj1RHRfG7e"
      }
    },
    {
      "cell_type": "code",
      "source": [
        "# Objective: \n",
        "model3_1.setObjective(quicksum(m[i]*y[i] for i in range(6))+quicksum(m[i]*x[i] for i in range(6,9)), GRB.MINIMIZE)"
      ],
      "metadata": {
        "id": "UC27khhqffr_"
      },
      "execution_count": 47,
      "outputs": []
    },
    {
      "cell_type": "code",
      "source": [
        "# Call the solver \n",
        "model3_1.optimize()\n"
      ],
      "metadata": {
        "colab": {
          "base_uri": "https://localhost:8080/"
        },
        "id": "Y9UlwtDtfi_9",
        "outputId": "287b0bdd-ade4-4cc9-e9a7-c6376ebd2c16"
      },
      "execution_count": 48,
      "outputs": [
        {
          "output_type": "stream",
          "name": "stdout",
          "text": [
            "Gurobi Optimizer version 10.0.1 build v10.0.1rc0 (linux64)\n",
            "\n",
            "CPU model: Intel(R) Xeon(R) CPU @ 2.20GHz, instruction set [SSE2|AVX|AVX2]\n",
            "Thread count: 1 physical cores, 2 logical processors, using up to 2 threads\n",
            "\n",
            "Optimize a model with 44 rows, 204 columns and 609 nonzeros\n",
            "Model fingerprint: 0x67b59ee2\n",
            "Variable types: 0 continuous, 204 integer (9 binary)\n",
            "Coefficient statistics:\n",
            "  Matrix range     [1e-04, 5e+04]\n",
            "  Objective range  [1e-01, 2e+04]\n",
            "  Bounds range     [1e+00, 1e+00]\n",
            "  RHS range        [3e+00, 1e+05]\n",
            "Presolve time: 0.00s\n",
            "Presolved: 44 rows, 204 columns, 609 nonzeros\n",
            "Variable types: 0 continuous, 204 integer (9 binary)\n",
            "\n",
            "Root relaxation: objective 5.660000e+03, 104 iterations, 0.00 seconds (0.00 work units)\n",
            "\n",
            "    Nodes    |    Current Node    |     Objective Bounds      |     Work\n",
            " Expl Unexpl |  Obj  Depth IntInf | Incumbent    BestBd   Gap | It/Node Time\n",
            "\n",
            "     0     0 5660.00000    0    5          - 5660.00000      -     -    0s\n",
            "H    0     0                    6300.0000000 5660.00000  10.2%     -    0s\n",
            "     0     0 5660.00000    0   10 6300.00000 5660.00000  10.2%     -    0s\n",
            "     0     0 5660.00000    0    5 6300.00000 5660.00000  10.2%     -    0s\n",
            "H    0     0                    6299.9000000 5660.00000  10.2%     -    0s\n",
            "     0     0 5660.00000    0   10 6299.90000 5660.00000  10.2%     -    0s\n",
            "H    0     0                    6000.0000000 5660.00000  5.67%     -    0s\n",
            "     0     0 5660.00000    0   10 6000.00000 5660.00000  5.67%     -    0s\n",
            "\n",
            "Cutting planes:\n",
            "  Gomory: 1\n",
            "\n",
            "Explored 1 nodes (205 simplex iterations) in 0.06 seconds (0.00 work units)\n",
            "Thread count was 2 (of 2 available processors)\n",
            "\n",
            "Solution count 3: 6000 6299.9 6300 \n",
            "\n",
            "Optimal solution found (tolerance 1.00e-04)\n",
            "Best objective 6.000000000000e+03, best bound 6.000000000000e+03, gap 0.0000%\n"
          ]
        }
      ]
    },
    {
      "cell_type": "markdown",
      "source": [
        "Now we have obtained the solutions for the optimization problem. Displaying the optimal value of the extension/construction cost."
      ],
      "metadata": {
        "id": "uadB49xgUI8u"
      }
    },
    {
      "cell_type": "code",
      "source": [
        "# Save the optimal value of the extension/construction cost\n",
        "optimal_value_Q3_1 = pd.DataFrame([model3_1.objVal])\n",
        "optimal_value_Q3_1.index.name = \"optVal\"\n",
        "\n",
        "# Display the optimal value the extension/construction cost\n",
        "print(\"The optimal value for the extension/construction cost is:\")\n",
        "print(model3_1.objVal)"
      ],
      "metadata": {
        "colab": {
          "base_uri": "https://localhost:8080/"
        },
        "id": "E8w9htYDfmXW",
        "outputId": "ba110f9c-68dd-4bf8-a7ec-17b61871724b"
      },
      "execution_count": 49,
      "outputs": [
        {
          "output_type": "stream",
          "name": "stdout",
          "text": [
            "The optimal value for the extension/construction cost is:\n",
            "6000.0\n"
          ]
        }
      ]
    },
    {
      "cell_type": "markdown",
      "source": [
        "Display which DCs need to be extended/constructed (binary values)"
      ],
      "metadata": {
        "id": "hbzR-9yGfP9L"
      }
    },
    {
      "cell_type": "code",
      "source": [
        "# variable: x\n",
        "# start creating a dataframe of 0 values with the right size (1 row, as many columns as the number of sites)\n",
        "optimal_x_Q3_1 = pd.DataFrame(0, index=range(1), columns=range(num_centers))\n",
        "optimal_x_Q3_1.index.name = \"x\"\n",
        "# then, iterate on the columns of the dataframe using a for cycle\n",
        "for i in range(num_centers):\n",
        "    # and update the value of the column\n",
        "    optimal_x_Q3_1.iloc[0,i] = x[i].X\n",
        "    # [var.X is used to take the optimal value of variable var; note that X is capitalized]\n",
        "\n",
        "# Display the optimal solution\n",
        "print(optimal_x_Q3_1)"
      ],
      "metadata": {
        "colab": {
          "base_uri": "https://localhost:8080/"
        },
        "id": "y73jgETifotx",
        "outputId": "88e7a1df-3078-4b49-9004-11829ce13e41"
      },
      "execution_count": 50,
      "outputs": [
        {
          "output_type": "stream",
          "name": "stdout",
          "text": [
            "   0  1  2  3  4  5  6  7  8\n",
            "x                           \n",
            "0  1  1  0  0  0  0  1  0  0\n"
          ]
        }
      ]
    },
    {
      "cell_type": "markdown",
      "source": [
        "Display by how much capacity does a DC need to be extended, if it needs to be extended (integer value)"
      ],
      "metadata": {
        "id": "XeaROerrfT5r"
      }
    },
    {
      "cell_type": "code",
      "source": [
        "# variable: y\n",
        "# start creating a dataframe of 0 values with the right size (1 row, with 6 columns)\n",
        "optimal_y_Q3_1 = pd.DataFrame(0, index=range(1), columns=range(6))\n",
        "optimal_y_Q3_1.index.name = \"y\"\n",
        "# then, iterate on the columns of the dataframe using a for cycle\n",
        "for i in range(6):\n",
        "    # and update the value of the column\n",
        "    optimal_y_Q3_1.iloc[0,i] = y[i].X\n",
        "    # [var.X is used to take the optimal value of variable var; note that X is capitalized]\n",
        "\n",
        "# Display the optimal solution\n",
        "print(optimal_y_Q3_1)"
      ],
      "metadata": {
        "colab": {
          "base_uri": "https://localhost:8080/"
        },
        "id": "5CPxFahj90CL",
        "outputId": "158dce9d-f19e-448a-c6b5-b475876db965"
      },
      "execution_count": 51,
      "outputs": [
        {
          "output_type": "stream",
          "name": "stdout",
          "text": [
            "       0      1  2  3  4  5\n",
            "y                          \n",
            "0  10000  10000  0  0  0  0\n"
          ]
        }
      ]
    },
    {
      "cell_type": "code",
      "source": [
        "# Report the optimal solution in the excel file\n",
        "\n",
        "# to write in the excel file you need to use the following line of code \n",
        "# in which you open the excel file called 'Speedy_Pizza_Data.xlsx' in writer mode\n",
        "with pd.ExcelWriter('/content/drive/MyDrive/data_for_what_if.xlsx', mode='a', if_sheet_exists='overlay') as writer:\n",
        "# then, you simply upload the dataframes a new sheet called 'Q1', one under the other\n",
        "    optimal_value_Q3_1.to_excel(writer, sheet_name='Q3_1')\n",
        "    optimal_x_Q3_1.to_excel(writer, sheet_name='Q3_1', startrow=3)\n",
        "    optimal_y_Q3_1.to_excel(writer, sheet_name='Q3_1', startrow=6)"
      ],
      "metadata": {
        "id": "k0_DWoiefrtF"
      },
      "execution_count": 52,
      "outputs": []
    },
    {
      "cell_type": "code",
      "source": [
        "#Visualization for the average delivery time for all the stores\n",
        "sum=[0]*21\n",
        "sum_quant_across_rows = [0]*21\n",
        "\n",
        "# Extract the values from the Gurobi variable\n",
        "quant_values = np.array([[quant[i, j].x for j in range(21)] for i in range(9)])\n",
        "for j in range(21):\n",
        "  for i in range (9):\n",
        "    sum_quant_across_rows[j]=sum_quant_across_rows[j]+quant_values[i,j]\n",
        "    sum[j] = sum[j]+quant_values[i,j]*t[i,j]\n",
        "  sum[j]=sum[j]/sum_quant_across_rows[j]\n",
        "\n",
        "print(\"The average delivery time for all the stores are (What-if case 1):\")\n",
        "print(sum)"
      ],
      "metadata": {
        "colab": {
          "base_uri": "https://localhost:8080/"
        },
        "id": "uO2pmATigNm8",
        "outputId": "a9c55044-9e16-4a66-b61a-5387422cce82"
      },
      "execution_count": 54,
      "outputs": [
        {
          "output_type": "stream",
          "name": "stdout",
          "text": [
            "The average delivery time for all the stores are (What-if case 1):\n",
            "[0.1, 3.2, 6.6, 7.9, 7.5, 1.8, 5.075247524752475, 4.6, 2.9, 2.6, 1.0, 3.5, 7.4, 10.1, 10.120271576524742, 4.1618674033149174, 11.4, 11.9, 6.0, 20.9, 9.0]\n"
          ]
        }
      ]
    },
    {
      "cell_type": "code",
      "source": [
        "#Visualization for the average delivery time from all the DCs\n",
        "sum=[0]*9\n",
        "sum_quant_across_columns = [0]*9\n",
        "\n",
        "# Extract the values from the Gurobi variable\n",
        "quant_values = np.array([[quant[i, j].x for j in range(21)] for i in range(9)])\n",
        "for i in range(9):\n",
        "  for j in range (21):\n",
        "    sum_quant_across_columns[i]=sum_quant_across_columns[i]+quant_values[i,j]\n",
        "    sum[i] = sum[i]+quant_values[i,j]*t[i,j]\n",
        "  sum[i]=sum[i]/sum_quant_across_columns[i]\n",
        "\n",
        "print(\"The average delivery time from all the DCs are (What-if case 1):\")\n",
        "print(sum)"
      ],
      "metadata": {
        "colab": {
          "base_uri": "https://localhost:8080/"
        },
        "id": "t6iCTtSkg9ma",
        "outputId": "649132e0-8dc7-4e41-ce0a-dcf6ae8ca211"
      },
      "execution_count": 55,
      "outputs": [
        {
          "output_type": "stream",
          "name": "stdout",
          "text": [
            "The average delivery time from all the DCs are (What-if case 1):\n",
            "[3.693038711001954, 5.7635745220019325, 13.036891071428572, 7.714809782608696, 3.0178125, 5.547165697674418, 9.499574, nan, nan]\n"
          ]
        },
        {
          "output_type": "stream",
          "name": "stderr",
          "text": [
            "<ipython-input-55-4b5cb6326899>:11: RuntimeWarning: invalid value encountered in double_scalars\n",
            "  sum[i]=sum[i]/sum_quant_across_columns[i]\n"
          ]
        }
      ]
    },
    {
      "cell_type": "code",
      "source": [
        "#Visualization for the Monthly delivery costs for all the stores\n",
        "\n",
        "sum=[0]*21\n",
        "\n",
        "# Extract the values from the Gurobi variable\n",
        "quant_values = np.array([[quant[i, j].x for j in range(21)] for i in range(9)])\n",
        "for j in range(21):\n",
        "  for i in range (9):\n",
        "    sum[j] = sum[j]+quant_values[i,j]*t[i,j]*0.001\n",
        "\n",
        "print(\"The average Monthly delivery costs for all the stores are (What-if case 1):\")\n",
        "print(sum)"
      ],
      "metadata": {
        "colab": {
          "base_uri": "https://localhost:8080/"
        },
        "id": "-KRXJ_dJhGyZ",
        "outputId": "9a52ea1a-89bf-4faa-abb0-ed19b35d1882"
      },
      "execution_count": 56,
      "outputs": [
        {
          "output_type": "stream",
          "name": "stdout",
          "text": [
            "The average Monthly delivery costs for all the stores are (What-if case 1):\n",
            "[2.06, 144.0, 143.22, 178.54, 101.25, 70.56, 153.78, 85.10000000000001, 28.71, 41.08, 23.6, 23.45, 371.48, 184.83, 879.4516000000001, 451.9788000000001, 226.86, 239.19, 156.6, 679.25, 315.0]\n"
          ]
        }
      ]
    },
    {
      "cell_type": "markdown",
      "source": [
        "**Comments**: If the extension can provide between 10000 and 13000 extra items instead of between 8000 and 13000 items, the DC 1 and 2 needs to be extended each by 10000 units, while DC 7 needs to be constructed. The optimization results in the minimum extension/construction cost of 6000 euros."
      ],
      "metadata": {
        "id": "MkOdCsWw7o9Z"
      }
    },
    {
      "cell_type": "markdown",
      "source": [
        "###Case 2: The monthly delivery cost to an aggregated store do not exceed a budget of 3500 euros instead of 4500 euros"
      ],
      "metadata": {
        "id": "0vrfNt45N1U8"
      }
    },
    {
      "cell_type": "markdown",
      "source": [
        "Initializing the model and defining the decision variables"
      ],
      "metadata": {
        "id": "eu6cx03IfdF4"
      }
    },
    {
      "cell_type": "code",
      "source": [
        "# Initialize the model\n",
        "model3_2 = Model('zara-Q3_2')\n",
        "\n",
        "# Create the variable x[i] = 1 if DC i will be extended or constructed\n",
        "x = model3_2.addVars(num_centers, vtype=GRB.BINARY, name='extension_construct')\n",
        "\n",
        "# create the variable y[i] to compute the extension unit if i in range(0,6)\n",
        "y = model3_2.addVars(6, vtype=GRB.INTEGER, name='extension_unit')\n",
        "\n",
        "# Create the variable quan[i,j] which denotes the quantity served to city j is from DC i\n",
        "quant = model3_2.addVars(num_centers, num_cities, vtype=GRB.INTEGER, name='quantity_deliver_site')"
      ],
      "metadata": {
        "id": "6QN_FK2rOBIQ"
      },
      "execution_count": 57,
      "outputs": []
    },
    {
      "cell_type": "markdown",
      "source": [
        "Defining the input parameters"
      ],
      "metadata": {
        "id": "SKRki22TfgMB"
      }
    },
    {
      "cell_type": "code",
      "source": [
        "# Read in the constants\n",
        "\n",
        "# m[i] is the cost of construction or extension\n",
        "m = np.array([i for i in cost])\n",
        "print('cost: ',m)\n",
        "\n",
        "# t[i,j] is the delivery time from i to j\n",
        "t = np.array([[j for j in i] for i in time.values])\n",
        "print('Dcs and Cities: ',t.shape)\n",
        "\n",
        "# c[i] is the capacity of sites\n",
        "c = np.array([i for i in capacity])\n",
        "print('capacities: ',c)\n",
        "\n",
        "# d[j] is the demand of cities\n",
        "d = np.array([i for i in demand])\n",
        "print('demands: ',d)"
      ],
      "metadata": {
        "colab": {
          "base_uri": "https://localhost:8080/"
        },
        "id": "yRBBBCDsOBnB",
        "outputId": "ca1ea70a-392a-411b-c3f9-2d6e1a04c7c1"
      },
      "execution_count": 58,
      "outputs": [
        {
          "output_type": "stream",
          "name": "stdout",
          "text": [
            "cost:  [1.0e-01 1.0e-01 5.0e-01 1.0e-01 2.0e-01 5.0e-01 4.0e+03 1.5e+04 2.0e+04]\n",
            "Dcs and Cities:  (9, 21)\n",
            "capacities:  [123200.  88000. 112000.  73600.  64000. 137600.  50000.  50000.  50000.]\n",
            "demands:  [ 20600.  45000.  21700.  22600.  13500.  39200.  30300.  18500.   9900.\n",
            "  15800.  23600.   6700.  50200.  18300.  86900. 108600.  19900.  20100.\n",
            "  26100.  32500.  35000.]\n"
          ]
        }
      ]
    },
    {
      "cell_type": "markdown",
      "source": [
        "Defining all the constraints"
      ],
      "metadata": {
        "id": "xQU247KWfnop"
      }
    },
    {
      "cell_type": "code",
      "source": [
        "# Constraint 1: Zara can construct or extend no more than 3 sites\n",
        "model3_2.addConstr(quicksum(x[i] for i in range(num_centers)) <= 3) \n",
        "\n",
        "# Constraint 2: If Zara decides to extend, then 8000<= yi <= 13000, else yi = 0\n",
        "for i in range(6):\n",
        "    model3_2.addConstr(y[i] >= 8000*x[i])\n",
        "model3_2.addConstrs(y[i] <= 13000*x[i] for i in range(6))\n",
        "\n",
        "# Constraint 3: Multiple source supplying. The summation of the supplies from multiple sources for a city should be greater than its demand\n",
        "for j in range(num_cities):\n",
        "    model3_2.addConstr(quicksum(quant[i,j] for i in range(num_centers)) >= d[j])\n",
        "\n",
        "# Constraint 4: The total monthly delivery costs of each aggregated stores do not exceed a budget of 3500 euros\n",
        "model3_2.addConstr(quicksum(quant[i, j] * t[i, j] * 0.001 for i in range(num_centers) for j in range(num_cities)) <= 3500)\n",
        "\n",
        "\n",
        "# Constraint 5: The supplies must exceed the demands\n",
        "model3_2.addConstrs(quicksum(quant[i,j] for j in range(num_cities)) <= capacity[i]+y[i] for i in range(6)) \n",
        "model3_2.addConstrs(quicksum(quant[i,j] for j in range(num_cities)) <= capacity[i]*x[i] for i in range(6,9))\n",
        "\n",
        "model3_2.update()\n"
      ],
      "metadata": {
        "id": "jhFsV9_HOHZt"
      },
      "execution_count": 59,
      "outputs": []
    },
    {
      "cell_type": "markdown",
      "source": [
        "Set the objective function and call the solver"
      ],
      "metadata": {
        "id": "30A-84AGfsb7"
      }
    },
    {
      "cell_type": "code",
      "source": [
        "# Objective: \n",
        "model3_2.setObjective(quicksum(m[i]*y[i] for i in range(6))+quicksum(m[i]*x[i] for i in range(6,9)), GRB.MINIMIZE)"
      ],
      "metadata": {
        "id": "HVvkjI-OOMWJ"
      },
      "execution_count": 60,
      "outputs": []
    },
    {
      "cell_type": "code",
      "source": [
        "# Call the solver \n",
        "model3_2.optimize()"
      ],
      "metadata": {
        "colab": {
          "base_uri": "https://localhost:8080/"
        },
        "id": "-867nHvOOPLG",
        "outputId": "374d1d35-f6b2-4f8b-e1b0-cfa359e310e8"
      },
      "execution_count": 61,
      "outputs": [
        {
          "output_type": "stream",
          "name": "stdout",
          "text": [
            "Gurobi Optimizer version 10.0.1 build v10.0.1rc0 (linux64)\n",
            "\n",
            "CPU model: Intel(R) Xeon(R) CPU @ 2.20GHz, instruction set [SSE2|AVX|AVX2]\n",
            "Thread count: 1 physical cores, 2 logical processors, using up to 2 threads\n",
            "\n",
            "Optimize a model with 44 rows, 204 columns and 609 nonzeros\n",
            "Model fingerprint: 0xcce20d08\n",
            "Variable types: 0 continuous, 204 integer (9 binary)\n",
            "Coefficient statistics:\n",
            "  Matrix range     [1e-04, 5e+04]\n",
            "  Objective range  [1e-01, 2e+04]\n",
            "  Bounds range     [1e+00, 1e+00]\n",
            "  RHS range        [3e+00, 1e+05]\n",
            "Presolve time: 0.00s\n",
            "Presolved: 44 rows, 204 columns, 609 nonzeros\n",
            "Variable types: 0 continuous, 204 integer (9 binary)\n",
            "\n",
            "Root relaxation: objective 2.244764e+04, 104 iterations, 0.00 seconds (0.00 work units)\n",
            "\n",
            "    Nodes    |    Current Node    |     Objective Bounds      |     Work\n",
            " Expl Unexpl |  Obj  Depth IntInf | Incumbent    BestBd   Gap | It/Node Time\n",
            "\n",
            "     0     0 22447.6419    0   17          - 22447.6419      -     -    0s\n",
            "     0     0 39000.0000    0    2          - 39000.0000      -     -    0s\n",
            "H    0     0                    39000.000000 39000.0000  0.00%     -    0s\n",
            "     0     0 39000.0000    0    2 39000.0000 39000.0000  0.00%     -    0s\n",
            "\n",
            "Explored 1 nodes (126 simplex iterations) in 0.05 seconds (0.00 work units)\n",
            "Thread count was 2 (of 2 available processors)\n",
            "\n",
            "Solution count 1: 39000 \n",
            "\n",
            "Optimal solution found (tolerance 1.00e-04)\n",
            "Best objective 3.900000000000e+04, best bound 3.900000000000e+04, gap 0.0000%\n"
          ]
        }
      ]
    },
    {
      "cell_type": "markdown",
      "source": [
        "Now we have obtained the solutions for the optimization problem. Displaying the optimal value of the extension/construction cost."
      ],
      "metadata": {
        "id": "ow8Lzxq8fykK"
      }
    },
    {
      "cell_type": "code",
      "source": [
        "# Save the optimal value of the extension/construction cost\n",
        "optimal_value_Q3_2 = pd.DataFrame([model3_2.objVal])\n",
        "optimal_value_Q3_2.index.name = \"optVal\"\n",
        "\n",
        "# Display the optimal value the extension/construction cost\n",
        "print(\"The optimal value for the extension/construction cost is:\")\n",
        "print(model3_2.objVal)"
      ],
      "metadata": {
        "colab": {
          "base_uri": "https://localhost:8080/"
        },
        "id": "zVxQPVthWRUn",
        "outputId": "909e061b-1797-4cdb-ca2e-1e50d21f2a4d"
      },
      "execution_count": 62,
      "outputs": [
        {
          "output_type": "stream",
          "name": "stdout",
          "text": [
            "The optimal value for the extension/construction cost is:\n",
            "39000.0\n"
          ]
        }
      ]
    },
    {
      "cell_type": "markdown",
      "source": [
        "Display which DCs need to be extended/constructed (binary values)"
      ],
      "metadata": {
        "id": "wgS4ZJ8jf2Bz"
      }
    },
    {
      "cell_type": "code",
      "source": [
        "# variable: x\n",
        "# start creating a dataframe of 0 values with the right size (1 row, as many columns as the number of sites)\n",
        "optimal_x_Q3_2 = pd.DataFrame(0, index=range(1), columns=range(num_centers))\n",
        "optimal_x_Q3_2.index.name = \"x\"\n",
        "# then, iterate on the columns of the dataframe using a for cycle\n",
        "for i in range(num_centers):\n",
        "    # and update the value of the column\n",
        "    optimal_x_Q3_2.iloc[0,i] = x[i].X\n",
        "    # [var.X is used to take the optimal value of variable var; note that X is capitalized]\n",
        "\n",
        "# Display the optimal solution\n",
        "print(optimal_x_Q3_2)"
      ],
      "metadata": {
        "colab": {
          "base_uri": "https://localhost:8080/"
        },
        "id": "pPdiAVozWUCb",
        "outputId": "d3ca9b75-57d8-4158-c028-ebc63fd04903"
      },
      "execution_count": 63,
      "outputs": [
        {
          "output_type": "stream",
          "name": "stdout",
          "text": [
            "   0  1  2  3  4  5  6  7  8\n",
            "x                           \n",
            "0  0  0  0  0  0  0  1  1  1\n"
          ]
        }
      ]
    },
    {
      "cell_type": "markdown",
      "source": [
        "Display by how much capacity does a DC need to be extended, if it needs to be extended (integer value)"
      ],
      "metadata": {
        "id": "mtzFlTsUf6H6"
      }
    },
    {
      "cell_type": "code",
      "source": [
        "# variable: y\n",
        "# start creating a dataframe of 0 values with the right size (1 row, with 6 columns)\n",
        "optimal_y_Q3_2 = pd.DataFrame(0, index=range(1), columns=range(6))\n",
        "optimal_y_Q3_2.index.name = \"y\"\n",
        "# then, iterate on the columns of the dataframe using a for cycle\n",
        "for i in range(6):\n",
        "    # and update the value of the column\n",
        "    optimal_y_Q3_2.iloc[0,i] = y[i].X\n",
        "    # [var.X is used to take the optimal value of variable var; note that X is capitalized]\n",
        "\n",
        "# Display the optimal solution\n",
        "print(optimal_y_Q3_2)"
      ],
      "metadata": {
        "colab": {
          "base_uri": "https://localhost:8080/"
        },
        "id": "o__IKiZ9WXSk",
        "outputId": "c2516de0-2513-4983-a595-e465f82b3d48"
      },
      "execution_count": 64,
      "outputs": [
        {
          "output_type": "stream",
          "name": "stdout",
          "text": [
            "   0  1  2  3  4  5\n",
            "y                  \n",
            "0  0  0  0  0  0  0\n"
          ]
        }
      ]
    },
    {
      "cell_type": "code",
      "source": [
        "# Report the optimal solution in the excel file\n",
        "\n",
        "# to write in the excel file you need to use the following line of code \n",
        "# in which you open the excel file called 'Speedy_Pizza_Data.xlsx' in writer mode\n",
        "with pd.ExcelWriter('/content/drive/MyDrive/data_for_what_if.xlsx', mode='a', if_sheet_exists='overlay') as writer:\n",
        "# then, you simply upload the dataframes a new sheet called 'Q1', one under the other\n",
        "    optimal_value_Q3_2.to_excel(writer, sheet_name='Q3_2')\n",
        "    optimal_x_Q3_2.to_excel(writer, sheet_name='Q3_2', startrow=3)\n",
        "    optimal_y_Q3_2.to_excel(writer, sheet_name='Q3_2', startrow=6)"
      ],
      "metadata": {
        "id": "RV2C-7lFWaDH"
      },
      "execution_count": 65,
      "outputs": []
    },
    {
      "cell_type": "code",
      "source": [
        "#Visualization for the average delivery time for all the stores\n",
        "sum=[0]*21\n",
        "sum_quant_across_rows = [0]*21\n",
        "\n",
        "# Extract the values from the Gurobi variable\n",
        "quant_values = np.array([[quant[i, j].x for j in range(21)] for i in range(9)])\n",
        "for j in range(21):\n",
        "  for i in range (9):\n",
        "    sum_quant_across_rows[j]=sum_quant_across_rows[j]+quant_values[i,j]\n",
        "    sum[j] = sum[j]+quant_values[i,j]*t[i,j]\n",
        "  sum[j]=sum[j]/sum_quant_across_rows[j]\n",
        "\n",
        "print(\"The average delivery time for all the stores are (What-if case 2):\")\n",
        "print(sum)"
      ],
      "metadata": {
        "colab": {
          "base_uri": "https://localhost:8080/"
        },
        "id": "bISGuURRhd4J",
        "outputId": "15d88118-6f17-4986-ba3f-4773e60097d7"
      },
      "execution_count": 69,
      "outputs": [
        {
          "output_type": "stream",
          "name": "stdout",
          "text": [
            "The average delivery time for all the stores are (What-if case 2):\n",
            "[0.1, 2.758, 6.6, 7.935294117647059, 7.5, 1.8, 4.163366336633663, 4.6, 2.9, 2.6, 1.0, 3.5, 3.357525896414343, 3.2, 3.1299194476409666, 0.2, 11.4, 11.9, 15.7, 20.9, 13.313142857142857]\n"
          ]
        }
      ]
    },
    {
      "cell_type": "code",
      "source": [
        "#Visualization for the average delivery time from all the DCs\n",
        "sum=[0]*9\n",
        "sum_quant_across_columns = [0]*9\n",
        "\n",
        "# Extract the values from the Gurobi variable\n",
        "quant_values = np.array([[quant[i, j].x for j in range(21)] for i in range(9)])\n",
        "for i in range(9):\n",
        "  for j in range (21):\n",
        "    sum_quant_across_columns[i]=sum_quant_across_columns[i]+quant_values[i,j]\n",
        "    sum[i] = sum[i]+quant_values[i,j]*t[i,j]\n",
        "  sum[i]=sum[i]/sum_quant_across_columns[i]\n",
        "\n",
        "print(\"The average delivery time from all the DCs are (What-if case 2):\")\n",
        "print(sum)"
      ],
      "metadata": {
        "colab": {
          "base_uri": "https://localhost:8080/"
        },
        "id": "0qbM7CNehhyx",
        "outputId": "6ca57e0b-acd3-4c55-c9b5-f88318af78f3"
      },
      "execution_count": 70,
      "outputs": [
        {
          "output_type": "stream",
          "name": "stdout",
          "text": [
            "The average delivery time from all the DCs are (What-if case 2):\n",
            "[1.2428571428571429, 3.1089341692789967, 11.222678571428572, 7.350815217391304, 3.0609375, 3.8646593518754786, 16.00709677419355, 0.2, 1.4319909560172348]\n"
          ]
        }
      ]
    },
    {
      "cell_type": "code",
      "source": [
        "#Visualization for the Monthly delivery costs for all the stores\n",
        "\n",
        "sum=[0]*21\n",
        "\n",
        "# Extract the values from the Gurobi variable\n",
        "quant_values = np.array([[quant[i, j].x for j in range(21)] for i in range(9)])\n",
        "for j in range(21):\n",
        "  for i in range (9):\n",
        "    sum[j] = sum[j]+quant_values[i,j]*t[i,j]*0.001\n",
        "\n",
        "print(\"The average Monthly delivery costs for all the stores are (What-if case 2):\")\n",
        "print(sum)"
      ],
      "metadata": {
        "colab": {
          "base_uri": "https://localhost:8080/"
        },
        "id": "4bOnaBuihlX7",
        "outputId": "4ed26ad9-bd53-4093-d7ab-f235fefc3766"
      },
      "execution_count": 71,
      "outputs": [
        {
          "output_type": "stream",
          "name": "stdout",
          "text": [
            "The average Monthly delivery costs for all the stores are (What-if case 2):\n",
            "[2.06, 124.11000000000001, 143.22, 188.85999999999999, 101.25, 70.56, 126.15, 85.10000000000001, 28.71, 41.08, 23.6, 23.45, 168.54780000000002, 58.56, 271.99, 21.72, 226.86, 239.19, 409.77, 679.25, 465.96000000000004]\n"
          ]
        }
      ]
    },
    {
      "cell_type": "markdown",
      "source": [
        "**Comments**: If the monthly delivery cost to an aggregated store cannot do not exceed a budget of 3500 euros instead of 4500 euros, then DCs 7, 8 and 9 needs to be contructed. No extensions in existing DCs are necessary. The optimization results in the minimum extension/construction cost of 39000 euros."
      ],
      "metadata": {
        "id": "B1DJ3mJiWz_V"
      }
    }
  ],
  "metadata": {
    "colab": {
      "provenance": []
    },
    "kernelspec": {
      "display_name": "Python 3",
      "name": "python3"
    },
    "language_info": {
      "name": "python"
    }
  },
  "nbformat": 4,
  "nbformat_minor": 0
}