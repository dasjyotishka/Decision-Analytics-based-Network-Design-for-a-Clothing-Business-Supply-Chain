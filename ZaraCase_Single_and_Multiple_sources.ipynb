{
  "cells": [
    {
      "cell_type": "markdown",
      "source": [
        "# The Zara Case: Single and Multiple Source Analysis"
      ],
      "metadata": {
        "id": "N8-7mZyYBlI-"
      }
    },
    {
      "cell_type": "markdown",
      "source": [
        "Install gurobipy and import all the functions in gurobipy."
      ],
      "metadata": {
        "id": "8mgGSjk2Dhtr"
      }
    },
    {
      "cell_type": "code",
      "execution_count": 34,
      "metadata": {
        "id": "__b7wUQQ18ED",
        "colab": {
          "base_uri": "https://localhost:8080/"
        },
        "outputId": "bbd00ae9-2e60-4ff9-81c0-6c45565d5c3a"
      },
      "outputs": [
        {
          "output_type": "stream",
          "name": "stdout",
          "text": [
            "Looking in indexes: https://pypi.org/simple, https://us-python.pkg.dev/colab-wheels/public/simple/\n",
            "Requirement already satisfied: gurobipy in /usr/local/lib/python3.10/dist-packages (10.0.1)\n"
          ]
        }
      ],
      "source": [
        "# Installation\n",
        "%pip install gurobipy"
      ]
    },
    {
      "cell_type": "code",
      "source": [
        "# Import all the functions\n",
        "from gurobipy import *\n",
        "import numpy as np"
      ],
      "metadata": {
        "id": "rztARf_MJh2o"
      },
      "execution_count": 35,
      "outputs": []
    },
    {
      "cell_type": "code",
      "source": [
        "from google.colab import drive\n",
        "drive.mount('/content/drive')"
      ],
      "metadata": {
        "colab": {
          "base_uri": "https://localhost:8080/"
        },
        "id": "FKvo-2yQTllU",
        "outputId": "c3449748-69a6-4f6d-d10b-3f7dda1c0ed1"
      },
      "execution_count": 36,
      "outputs": [
        {
          "output_type": "stream",
          "name": "stdout",
          "text": [
            "Drive already mounted at /content/drive; to attempt to forcibly remount, call drive.mount(\"/content/drive\", force_remount=True).\n"
          ]
        }
      ]
    },
    {
      "cell_type": "markdown",
      "source": [
        "Import and prepare the data"
      ],
      "metadata": {
        "id": "S0VP8P_kBqUk"
      }
    },
    {
      "cell_type": "code",
      "source": [
        "# Import the data from an Excel file\n",
        "\n",
        "# Import the library called Pandas first\n",
        "import pandas as pd\n",
        "\n",
        "# Upload the data and save them into \"data\"\n",
        "data = pd.read_excel('/content/drive/MyDrive/data.xlsx', index_col=0)"
      ],
      "metadata": {
        "id": "Y4PtPzGP4YJf"
      },
      "execution_count": 37,
      "outputs": []
    },
    {
      "cell_type": "code",
      "source": [
        "data"
      ],
      "metadata": {
        "colab": {
          "base_uri": "https://localhost:8080/",
          "height": 539
        },
        "id": "W69nYJybAmfm",
        "outputId": "22eef749-4d70-4274-d55c-5299e4c497bf"
      },
      "execution_count": 38,
      "outputs": [
        {
          "output_type": "execute_result",
          "data": {
            "text/plain": [
              "                Lille   Paris   Bordeaux  Toulouse   Strasbourg     Lyon  \\\n",
              "Travel Times                                                               \n",
              "Madrid           21.3     18.1      15.1       11.4        23.5     17.7   \n",
              "Lille             0.1      3.2      11.4       12.8         7.5      9.9   \n",
              "Orléans           5.0      1.9       6.6        7.9         8.4      6.6   \n",
              "Montélimar       11.9      8.7       9.0        5.6         9.1      2.1   \n",
              "Châlon            8.1      4.9       8.6        8.6         5.2      1.8   \n",
              "Piacenza         16.2     13.2      14.8       12.6         7.8      7.0   \n",
              "Bordeaux         15.1      8.4       0.1        3.5        13.8      7.9   \n",
              "Barcelone        17.9     14.8       9.1        5.6        16.1      9.1   \n",
              "Rome             23.1     20.1      21.3       17.8        15.1     13.9   \n",
              "Demand        20600.0  45000.0   21700.0    22600.0     13500.0  39200.0   \n",
              "\n",
              "              Marseille     Nice  Geneva   Torino  ...  Barcelona   Madrid   \\\n",
              "Travel Times                                       ...                        \n",
              "Madrid             15.7     18.0    19.7     21.0  ...        8.9       0.2   \n",
              "Lille              14.3     16.5    10.7     14.2  ...       17.9      21.2   \n",
              "Orléans            10.8     13.1     7.7     11.1  ...       13.1      16.4   \n",
              "Montélimar          2.4      4.6     4.2      5.5  ...        7.1      15.6   \n",
              "Châlon              6.3      8.5     2.9      6.3  ...       10.9      18.3   \n",
              "Piacenza            7.5      4.6     5.6      2.6  ...       14.1      22.6   \n",
              "Bordeaux            9.2     11.5    10.0     12.3  ...        9.1       9.8   \n",
              "Barcelone           7.2      9.5    11.2     12.5  ...        0.2       8.9   \n",
              "Rome               12.8      9.8    12.5      9.5  ...       19.3      27.8   \n",
              "Demand          30300.0  18500.0  9900.0  15800.0  ...    86900.0  108600.0   \n",
              "\n",
              "               Bilbao  Valencia  Sevilla    Porto   Lisboa  Capacity  \\\n",
              "Travel Times                                                           \n",
              "Madrid            5.7       5.1      6.0      8.1      9.0  123200.0   \n",
              "Lille            16.2      22.7     27.1     25.7     27.9   88000.0   \n",
              "Orléans          11.4      17.9     22.3     20.9     23.1  112000.0   \n",
              "Montélimar       11.8      11.9     19.6     21.3     23.5   73600.0   \n",
              "Châlon           13.3      15.8     23.4     22.8     25.0   64000.0   \n",
              "Piacenza         18.9      18.9     26.6     28.3     30.5  137600.0   \n",
              "Bordeaux          4.8      11.1     15.7     14.3     16.4   50000.0   \n",
              "Barcelone         8.7       5.0     12.7     16.6     17.8   50000.0   \n",
              "Rome             24.1      24.2     31.8     33.6     35.7   50000.0   \n",
              "Demand        19900.0   20100.0  26100.0  32500.0  35000.0       NaN   \n",
              "\n",
              "              Exten./Construct. Cost  Delivery Cost Budget  \n",
              "Travel Times                                                \n",
              "Madrid                           0.1                4500.0  \n",
              "Lille                            0.1                   NaN  \n",
              "Orléans                          0.5                   NaN  \n",
              "Montélimar                       0.1                   NaN  \n",
              "Châlon                           0.2                   NaN  \n",
              "Piacenza                         0.5                   NaN  \n",
              "Bordeaux                      4000.0                   NaN  \n",
              "Barcelone                    15000.0                   NaN  \n",
              "Rome                         20000.0                   NaN  \n",
              "Demand                           NaN                   NaN  \n",
              "\n",
              "[10 rows x 24 columns]"
            ],
            "text/html": [
              "\n",
              "  <div id=\"df-7a2513a3-e5a4-42d2-9a8f-3369b1c7c931\">\n",
              "    <div class=\"colab-df-container\">\n",
              "      <div>\n",
              "<style scoped>\n",
              "    .dataframe tbody tr th:only-of-type {\n",
              "        vertical-align: middle;\n",
              "    }\n",
              "\n",
              "    .dataframe tbody tr th {\n",
              "        vertical-align: top;\n",
              "    }\n",
              "\n",
              "    .dataframe thead th {\n",
              "        text-align: right;\n",
              "    }\n",
              "</style>\n",
              "<table border=\"1\" class=\"dataframe\">\n",
              "  <thead>\n",
              "    <tr style=\"text-align: right;\">\n",
              "      <th></th>\n",
              "      <th>Lille</th>\n",
              "      <th>Paris</th>\n",
              "      <th>Bordeaux</th>\n",
              "      <th>Toulouse</th>\n",
              "      <th>Strasbourg</th>\n",
              "      <th>Lyon</th>\n",
              "      <th>Marseille</th>\n",
              "      <th>Nice</th>\n",
              "      <th>Geneva</th>\n",
              "      <th>Torino</th>\n",
              "      <th>...</th>\n",
              "      <th>Barcelona</th>\n",
              "      <th>Madrid</th>\n",
              "      <th>Bilbao</th>\n",
              "      <th>Valencia</th>\n",
              "      <th>Sevilla</th>\n",
              "      <th>Porto</th>\n",
              "      <th>Lisboa</th>\n",
              "      <th>Capacity</th>\n",
              "      <th>Exten./Construct. Cost</th>\n",
              "      <th>Delivery Cost Budget</th>\n",
              "    </tr>\n",
              "    <tr>\n",
              "      <th>Travel Times</th>\n",
              "      <th></th>\n",
              "      <th></th>\n",
              "      <th></th>\n",
              "      <th></th>\n",
              "      <th></th>\n",
              "      <th></th>\n",
              "      <th></th>\n",
              "      <th></th>\n",
              "      <th></th>\n",
              "      <th></th>\n",
              "      <th></th>\n",
              "      <th></th>\n",
              "      <th></th>\n",
              "      <th></th>\n",
              "      <th></th>\n",
              "      <th></th>\n",
              "      <th></th>\n",
              "      <th></th>\n",
              "      <th></th>\n",
              "      <th></th>\n",
              "      <th></th>\n",
              "    </tr>\n",
              "  </thead>\n",
              "  <tbody>\n",
              "    <tr>\n",
              "      <th>Madrid</th>\n",
              "      <td>21.3</td>\n",
              "      <td>18.1</td>\n",
              "      <td>15.1</td>\n",
              "      <td>11.4</td>\n",
              "      <td>23.5</td>\n",
              "      <td>17.7</td>\n",
              "      <td>15.7</td>\n",
              "      <td>18.0</td>\n",
              "      <td>19.7</td>\n",
              "      <td>21.0</td>\n",
              "      <td>...</td>\n",
              "      <td>8.9</td>\n",
              "      <td>0.2</td>\n",
              "      <td>5.7</td>\n",
              "      <td>5.1</td>\n",
              "      <td>6.0</td>\n",
              "      <td>8.1</td>\n",
              "      <td>9.0</td>\n",
              "      <td>123200.0</td>\n",
              "      <td>0.1</td>\n",
              "      <td>4500.0</td>\n",
              "    </tr>\n",
              "    <tr>\n",
              "      <th>Lille</th>\n",
              "      <td>0.1</td>\n",
              "      <td>3.2</td>\n",
              "      <td>11.4</td>\n",
              "      <td>12.8</td>\n",
              "      <td>7.5</td>\n",
              "      <td>9.9</td>\n",
              "      <td>14.3</td>\n",
              "      <td>16.5</td>\n",
              "      <td>10.7</td>\n",
              "      <td>14.2</td>\n",
              "      <td>...</td>\n",
              "      <td>17.9</td>\n",
              "      <td>21.2</td>\n",
              "      <td>16.2</td>\n",
              "      <td>22.7</td>\n",
              "      <td>27.1</td>\n",
              "      <td>25.7</td>\n",
              "      <td>27.9</td>\n",
              "      <td>88000.0</td>\n",
              "      <td>0.1</td>\n",
              "      <td>NaN</td>\n",
              "    </tr>\n",
              "    <tr>\n",
              "      <th>Orléans</th>\n",
              "      <td>5.0</td>\n",
              "      <td>1.9</td>\n",
              "      <td>6.6</td>\n",
              "      <td>7.9</td>\n",
              "      <td>8.4</td>\n",
              "      <td>6.6</td>\n",
              "      <td>10.8</td>\n",
              "      <td>13.1</td>\n",
              "      <td>7.7</td>\n",
              "      <td>11.1</td>\n",
              "      <td>...</td>\n",
              "      <td>13.1</td>\n",
              "      <td>16.4</td>\n",
              "      <td>11.4</td>\n",
              "      <td>17.9</td>\n",
              "      <td>22.3</td>\n",
              "      <td>20.9</td>\n",
              "      <td>23.1</td>\n",
              "      <td>112000.0</td>\n",
              "      <td>0.5</td>\n",
              "      <td>NaN</td>\n",
              "    </tr>\n",
              "    <tr>\n",
              "      <th>Montélimar</th>\n",
              "      <td>11.9</td>\n",
              "      <td>8.7</td>\n",
              "      <td>9.0</td>\n",
              "      <td>5.6</td>\n",
              "      <td>9.1</td>\n",
              "      <td>2.1</td>\n",
              "      <td>2.4</td>\n",
              "      <td>4.6</td>\n",
              "      <td>4.2</td>\n",
              "      <td>5.5</td>\n",
              "      <td>...</td>\n",
              "      <td>7.1</td>\n",
              "      <td>15.6</td>\n",
              "      <td>11.8</td>\n",
              "      <td>11.9</td>\n",
              "      <td>19.6</td>\n",
              "      <td>21.3</td>\n",
              "      <td>23.5</td>\n",
              "      <td>73600.0</td>\n",
              "      <td>0.1</td>\n",
              "      <td>NaN</td>\n",
              "    </tr>\n",
              "    <tr>\n",
              "      <th>Châlon</th>\n",
              "      <td>8.1</td>\n",
              "      <td>4.9</td>\n",
              "      <td>8.6</td>\n",
              "      <td>8.6</td>\n",
              "      <td>5.2</td>\n",
              "      <td>1.8</td>\n",
              "      <td>6.3</td>\n",
              "      <td>8.5</td>\n",
              "      <td>2.9</td>\n",
              "      <td>6.3</td>\n",
              "      <td>...</td>\n",
              "      <td>10.9</td>\n",
              "      <td>18.3</td>\n",
              "      <td>13.3</td>\n",
              "      <td>15.8</td>\n",
              "      <td>23.4</td>\n",
              "      <td>22.8</td>\n",
              "      <td>25.0</td>\n",
              "      <td>64000.0</td>\n",
              "      <td>0.2</td>\n",
              "      <td>NaN</td>\n",
              "    </tr>\n",
              "    <tr>\n",
              "      <th>Piacenza</th>\n",
              "      <td>16.2</td>\n",
              "      <td>13.2</td>\n",
              "      <td>14.8</td>\n",
              "      <td>12.6</td>\n",
              "      <td>7.8</td>\n",
              "      <td>7.0</td>\n",
              "      <td>7.5</td>\n",
              "      <td>4.6</td>\n",
              "      <td>5.6</td>\n",
              "      <td>2.6</td>\n",
              "      <td>...</td>\n",
              "      <td>14.1</td>\n",
              "      <td>22.6</td>\n",
              "      <td>18.9</td>\n",
              "      <td>18.9</td>\n",
              "      <td>26.6</td>\n",
              "      <td>28.3</td>\n",
              "      <td>30.5</td>\n",
              "      <td>137600.0</td>\n",
              "      <td>0.5</td>\n",
              "      <td>NaN</td>\n",
              "    </tr>\n",
              "    <tr>\n",
              "      <th>Bordeaux</th>\n",
              "      <td>15.1</td>\n",
              "      <td>8.4</td>\n",
              "      <td>0.1</td>\n",
              "      <td>3.5</td>\n",
              "      <td>13.8</td>\n",
              "      <td>7.9</td>\n",
              "      <td>9.2</td>\n",
              "      <td>11.5</td>\n",
              "      <td>10.0</td>\n",
              "      <td>12.3</td>\n",
              "      <td>...</td>\n",
              "      <td>9.1</td>\n",
              "      <td>9.8</td>\n",
              "      <td>4.8</td>\n",
              "      <td>11.1</td>\n",
              "      <td>15.7</td>\n",
              "      <td>14.3</td>\n",
              "      <td>16.4</td>\n",
              "      <td>50000.0</td>\n",
              "      <td>4000.0</td>\n",
              "      <td>NaN</td>\n",
              "    </tr>\n",
              "    <tr>\n",
              "      <th>Barcelone</th>\n",
              "      <td>17.9</td>\n",
              "      <td>14.8</td>\n",
              "      <td>9.1</td>\n",
              "      <td>5.6</td>\n",
              "      <td>16.1</td>\n",
              "      <td>9.1</td>\n",
              "      <td>7.2</td>\n",
              "      <td>9.5</td>\n",
              "      <td>11.2</td>\n",
              "      <td>12.5</td>\n",
              "      <td>...</td>\n",
              "      <td>0.2</td>\n",
              "      <td>8.9</td>\n",
              "      <td>8.7</td>\n",
              "      <td>5.0</td>\n",
              "      <td>12.7</td>\n",
              "      <td>16.6</td>\n",
              "      <td>17.8</td>\n",
              "      <td>50000.0</td>\n",
              "      <td>15000.0</td>\n",
              "      <td>NaN</td>\n",
              "    </tr>\n",
              "    <tr>\n",
              "      <th>Rome</th>\n",
              "      <td>23.1</td>\n",
              "      <td>20.1</td>\n",
              "      <td>21.3</td>\n",
              "      <td>17.8</td>\n",
              "      <td>15.1</td>\n",
              "      <td>13.9</td>\n",
              "      <td>12.8</td>\n",
              "      <td>9.8</td>\n",
              "      <td>12.5</td>\n",
              "      <td>9.5</td>\n",
              "      <td>...</td>\n",
              "      <td>19.3</td>\n",
              "      <td>27.8</td>\n",
              "      <td>24.1</td>\n",
              "      <td>24.2</td>\n",
              "      <td>31.8</td>\n",
              "      <td>33.6</td>\n",
              "      <td>35.7</td>\n",
              "      <td>50000.0</td>\n",
              "      <td>20000.0</td>\n",
              "      <td>NaN</td>\n",
              "    </tr>\n",
              "    <tr>\n",
              "      <th>Demand</th>\n",
              "      <td>20600.0</td>\n",
              "      <td>45000.0</td>\n",
              "      <td>21700.0</td>\n",
              "      <td>22600.0</td>\n",
              "      <td>13500.0</td>\n",
              "      <td>39200.0</td>\n",
              "      <td>30300.0</td>\n",
              "      <td>18500.0</td>\n",
              "      <td>9900.0</td>\n",
              "      <td>15800.0</td>\n",
              "      <td>...</td>\n",
              "      <td>86900.0</td>\n",
              "      <td>108600.0</td>\n",
              "      <td>19900.0</td>\n",
              "      <td>20100.0</td>\n",
              "      <td>26100.0</td>\n",
              "      <td>32500.0</td>\n",
              "      <td>35000.0</td>\n",
              "      <td>NaN</td>\n",
              "      <td>NaN</td>\n",
              "      <td>NaN</td>\n",
              "    </tr>\n",
              "  </tbody>\n",
              "</table>\n",
              "<p>10 rows × 24 columns</p>\n",
              "</div>\n",
              "      <button class=\"colab-df-convert\" onclick=\"convertToInteractive('df-7a2513a3-e5a4-42d2-9a8f-3369b1c7c931')\"\n",
              "              title=\"Convert this dataframe to an interactive table.\"\n",
              "              style=\"display:none;\">\n",
              "        \n",
              "  <svg xmlns=\"http://www.w3.org/2000/svg\" height=\"24px\"viewBox=\"0 0 24 24\"\n",
              "       width=\"24px\">\n",
              "    <path d=\"M0 0h24v24H0V0z\" fill=\"none\"/>\n",
              "    <path d=\"M18.56 5.44l.94 2.06.94-2.06 2.06-.94-2.06-.94-.94-2.06-.94 2.06-2.06.94zm-11 1L8.5 8.5l.94-2.06 2.06-.94-2.06-.94L8.5 2.5l-.94 2.06-2.06.94zm10 10l.94 2.06.94-2.06 2.06-.94-2.06-.94-.94-2.06-.94 2.06-2.06.94z\"/><path d=\"M17.41 7.96l-1.37-1.37c-.4-.4-.92-.59-1.43-.59-.52 0-1.04.2-1.43.59L10.3 9.45l-7.72 7.72c-.78.78-.78 2.05 0 2.83L4 21.41c.39.39.9.59 1.41.59.51 0 1.02-.2 1.41-.59l7.78-7.78 2.81-2.81c.8-.78.8-2.07 0-2.86zM5.41 20L4 18.59l7.72-7.72 1.47 1.35L5.41 20z\"/>\n",
              "  </svg>\n",
              "      </button>\n",
              "      \n",
              "  <style>\n",
              "    .colab-df-container {\n",
              "      display:flex;\n",
              "      flex-wrap:wrap;\n",
              "      gap: 12px;\n",
              "    }\n",
              "\n",
              "    .colab-df-convert {\n",
              "      background-color: #E8F0FE;\n",
              "      border: none;\n",
              "      border-radius: 50%;\n",
              "      cursor: pointer;\n",
              "      display: none;\n",
              "      fill: #1967D2;\n",
              "      height: 32px;\n",
              "      padding: 0 0 0 0;\n",
              "      width: 32px;\n",
              "    }\n",
              "\n",
              "    .colab-df-convert:hover {\n",
              "      background-color: #E2EBFA;\n",
              "      box-shadow: 0px 1px 2px rgba(60, 64, 67, 0.3), 0px 1px 3px 1px rgba(60, 64, 67, 0.15);\n",
              "      fill: #174EA6;\n",
              "    }\n",
              "\n",
              "    [theme=dark] .colab-df-convert {\n",
              "      background-color: #3B4455;\n",
              "      fill: #D2E3FC;\n",
              "    }\n",
              "\n",
              "    [theme=dark] .colab-df-convert:hover {\n",
              "      background-color: #434B5C;\n",
              "      box-shadow: 0px 1px 3px 1px rgba(0, 0, 0, 0.15);\n",
              "      filter: drop-shadow(0px 1px 2px rgba(0, 0, 0, 0.3));\n",
              "      fill: #FFFFFF;\n",
              "    }\n",
              "  </style>\n",
              "\n",
              "      <script>\n",
              "        const buttonEl =\n",
              "          document.querySelector('#df-7a2513a3-e5a4-42d2-9a8f-3369b1c7c931 button.colab-df-convert');\n",
              "        buttonEl.style.display =\n",
              "          google.colab.kernel.accessAllowed ? 'block' : 'none';\n",
              "\n",
              "        async function convertToInteractive(key) {\n",
              "          const element = document.querySelector('#df-7a2513a3-e5a4-42d2-9a8f-3369b1c7c931');\n",
              "          const dataTable =\n",
              "            await google.colab.kernel.invokeFunction('convertToInteractive',\n",
              "                                                     [key], {});\n",
              "          if (!dataTable) return;\n",
              "\n",
              "          const docLinkHtml = 'Like what you see? Visit the ' +\n",
              "            '<a target=\"_blank\" href=https://colab.research.google.com/notebooks/data_table.ipynb>data table notebook</a>'\n",
              "            + ' to learn more about interactive tables.';\n",
              "          element.innerHTML = '';\n",
              "          dataTable['output_type'] = 'display_data';\n",
              "          await google.colab.output.renderOutput(dataTable, element);\n",
              "          const docLink = document.createElement('div');\n",
              "          docLink.innerHTML = docLinkHtml;\n",
              "          element.appendChild(docLink);\n",
              "        }\n",
              "      </script>\n",
              "    </div>\n",
              "  </div>\n",
              "  "
            ]
          },
          "metadata": {},
          "execution_count": 38
        }
      ]
    },
    {
      "cell_type": "code",
      "source": [
        "# Select the times, demand, capacity, cost, budget from the excel file\n",
        "\n",
        "demand=data.iloc[-1,:-3]\n",
        "time=data.iloc[:-1,:-3]\n",
        "capacity=data.iloc[:-1,-3]\n",
        "cost=data.iloc[:-1,-2]\n",
        "budget=data.iloc[0,-1]\n",
        "\n",
        "\n",
        "# The number of Distribution Centers (DCs)is equal to the number of rows\n",
        "num_centers = len(time.index)\n",
        "\n",
        "# The number of aggregated stores is equal to the number of columns\n",
        "num_cities = len(time.columns) \n"
      ],
      "metadata": {
        "id": "PMArmQXLANO-"
      },
      "execution_count": 39,
      "outputs": []
    },
    {
      "cell_type": "code",
      "source": [
        "print(num_cities)"
      ],
      "metadata": {
        "colab": {
          "base_uri": "https://localhost:8080/"
        },
        "id": "Xv1mp9EBpn3a",
        "outputId": "3f981492-79b8-485b-dcda-7975bf66af19"
      },
      "execution_count": 40,
      "outputs": [
        {
          "output_type": "stream",
          "name": "stdout",
          "text": [
            "21\n"
          ]
        }
      ]
    },
    {
      "cell_type": "code",
      "source": [
        "print(num_centers)"
      ],
      "metadata": {
        "colab": {
          "base_uri": "https://localhost:8080/"
        },
        "id": "URxhoqGrvIMS",
        "outputId": "ea98aed7-4199-4317-d8b4-7a5fbbed258c"
      },
      "execution_count": null,
      "outputs": [
        {
          "output_type": "stream",
          "name": "stdout",
          "text": [
            "9\n"
          ]
        }
      ]
    },
    {
      "cell_type": "markdown",
      "source": [
        "## **Question 1**: Which DCs would you build and/or extend (and how large should be the extensions) with single-source supplying (i.e., the demand of a client should be delivered by a single DC)?\n",
        "\n",
        "Initializing the model and defining the decision variables"
      ],
      "metadata": {
        "id": "3gzgsLmNRyAs"
      }
    },
    {
      "cell_type": "code",
      "source": [
        "# Initialize the model\n",
        "model = Model('zara-Q1')\n",
        "\n",
        "# Create the variable x[i] = 1 if DC i will be extended or constructed\n",
        "x = model.addVars(num_centers, vtype=GRB.BINARY, name='extension_construct')\n",
        "\n",
        "# Create the variable y[i] to compute the extension unit if i in range(0,6)\n",
        "y = model.addVars(6, vtype=GRB.INTEGER, name='extension_unit')\n",
        "\n",
        "# Create the variable a[i,j] = 1 if city j is delivered by i DCs, 0 otherwise\n",
        "a = model.addVars(num_centers, num_cities, vtype=GRB.BINARY, name='deliver_site')"
      ],
      "metadata": {
        "id": "uSQNPuVXLHLS"
      },
      "execution_count": 41,
      "outputs": []
    },
    {
      "cell_type": "markdown",
      "source": [
        "Defining the input parameters"
      ],
      "metadata": {
        "id": "WldFX-UA53h-"
      }
    },
    {
      "cell_type": "code",
      "source": [
        "# Read in the input parameters\n",
        "\n",
        "# m[i] is the cost of construction or extension\n",
        "m = np.array([i for i in cost])\n",
        "print('cost: ',m)\n",
        "\n",
        "# t[i,j] is the delivery time from i to j\n",
        "t = np.array([[j for j in i] for i in time.values])\n",
        "print('Dcs and Cities: ',t.shape)\n",
        "\n",
        "# c[i] is the capacity of sites\n",
        "c = np.array([i for i in capacity])\n",
        "print('capacities: ',c)\n",
        "\n",
        "# d[j] is the demand of cities\n",
        "d = np.array([i for i in demand])\n",
        "print('demands: ',d)"
      ],
      "metadata": {
        "colab": {
          "base_uri": "https://localhost:8080/"
        },
        "id": "1oglrfGdR5Yd",
        "outputId": "e2cba202-16ba-40d0-dd38-7bb1fe805fc0"
      },
      "execution_count": 42,
      "outputs": [
        {
          "output_type": "stream",
          "name": "stdout",
          "text": [
            "cost:  [1.0e-01 1.0e-01 5.0e-01 1.0e-01 2.0e-01 5.0e-01 4.0e+03 1.5e+04 2.0e+04]\n",
            "Dcs and Cities:  (9, 21)\n",
            "capacities:  [123200.  88000. 112000.  73600.  64000. 137600.  50000.  50000.  50000.]\n",
            "demands:  [ 20600.  45000.  21700.  22600.  13500.  39200.  30300.  18500.   9900.\n",
            "  15800.  23600.   6700.  50200.  18300.  86900. 108600.  19900.  20100.\n",
            "  26100.  32500.  35000.]\n"
          ]
        }
      ]
    },
    {
      "cell_type": "markdown",
      "source": [
        "Defining all the constraints"
      ],
      "metadata": {
        "id": "i7IvU-x56AST"
      }
    },
    {
      "cell_type": "code",
      "source": [
        "# Constraint 1: Zara can construct or extend no more than 3 sites\n",
        "model.addConstr(quicksum(x[i] for i in range(num_centers)) <= 3) \n",
        "\n",
        "# Constraint 2: If Zara decides to extend, then 8000<= yi <= 13000, else yi = 0\n",
        "for i in range(6):\n",
        "    model.addConstr(y[i] >= 8000*x[i])\n",
        "model.addConstrs(y[i] <= 13000*x[i] for i in range(6))\n",
        "\n",
        "# Constraint 3: Single source supplying\n",
        "for j in range(num_cities):\n",
        "    model.addConstr(quicksum(a[i,j] for i in range(num_centers)) == 1)\n",
        "\n",
        "# Constraint 4: The total monthly delivery costs do not exceed a budget of 4500 euros\n",
        "model.addConstr(quicksum(d[j]/1000 * quicksum(a[i, j]*t[i, j] for i in range(num_centers)) for j in range(num_cities)) <= 4500)\n",
        "\n",
        "# Constraint 5: The supplies must exceed the demands\n",
        "model.addConstrs(quicksum(a[i,j]*d[j] for j in range(num_cities)) <= c[i]+y[i] for i in range(6)) \n",
        "model.addConstrs(quicksum(a[i,j]*d[j] for j in range(num_cities)) <= c[i]*x[i] for i in range(6,9))\n",
        "\n",
        "model.update()"
      ],
      "metadata": {
        "id": "CQ1PWPIhR5U8"
      },
      "execution_count": 43,
      "outputs": []
    },
    {
      "cell_type": "markdown",
      "source": [
        "Defining the objective function"
      ],
      "metadata": {
        "id": "qjfqWl20AvMw"
      }
    },
    {
      "cell_type": "code",
      "source": [
        "# Objective: minimize the total number of inhabitants threatened by the open plants\n",
        "model.setObjective(quicksum(m[i]*y[i] for i in range(6))+quicksum(m[i]*x[i] for i in range(6,9)), GRB.MINIMIZE)\n"
      ],
      "metadata": {
        "id": "wtXnDIo1TOtj"
      },
      "execution_count": 44,
      "outputs": []
    },
    {
      "cell_type": "markdown",
      "source": [
        "Calling the solver"
      ],
      "metadata": {
        "id": "1HzbX0LkAztA"
      }
    },
    {
      "cell_type": "code",
      "source": [
        "# Call the solver \n",
        "model.optimize()\n"
      ],
      "metadata": {
        "colab": {
          "base_uri": "https://localhost:8080/"
        },
        "id": "WMfUVvX3TOp-",
        "outputId": "00cf4f65-1fff-4154-ae54-dad6e81d9e33"
      },
      "execution_count": 45,
      "outputs": [
        {
          "output_type": "stream",
          "name": "stdout",
          "text": [
            "Gurobi Optimizer version 10.0.1 build v10.0.1rc0 (linux64)\n",
            "\n",
            "CPU model: AMD EPYC 7B12, instruction set [SSE2|AVX|AVX2]\n",
            "Thread count: 1 physical cores, 2 logical processors, using up to 2 threads\n",
            "\n",
            "Optimize a model with 44 rows, 204 columns and 609 nonzeros\n",
            "Model fingerprint: 0xd7b2c661\n",
            "Variable types: 0 continuous, 204 integer (198 binary)\n",
            "Coefficient statistics:\n",
            "  Matrix range     [1e+00, 1e+05]\n",
            "  Objective range  [1e-01, 2e+04]\n",
            "  Bounds range     [1e+00, 1e+00]\n",
            "  RHS range        [1e+00, 1e+05]\n",
            "Presolve removed 1 rows and 25 columns\n",
            "Presolve time: 0.00s\n",
            "Presolved: 43 rows, 179 columns, 513 nonzeros\n",
            "Variable types: 0 continuous, 179 integer (173 binary)\n",
            "\n",
            "Root relaxation: objective 5.672295e+03, 76 iterations, 0.00 seconds (0.00 work units)\n",
            "\n",
            "    Nodes    |    Current Node    |     Objective Bounds      |     Work\n",
            " Expl Unexpl |  Obj  Depth IntInf | Incumbent    BestBd   Gap | It/Node Time\n",
            "\n",
            "     0     0 5672.29480    0   14          - 5672.29480      -     -    0s\n",
            "     0     0 5777.55279    0   17          - 5777.55279      -     -    0s\n",
            "H    0     0                    20150.000000 5777.55279  71.3%     -    0s\n",
            "     0     0 5871.35512    0   19 20150.0000 5871.35512  70.9%     -    0s\n",
            "     0     0 5921.06534    0   20 20150.0000 5921.06534  70.6%     -    0s\n",
            "     0     0 9165.47874    0   23 20150.0000 9165.47874  54.5%     -    0s\n",
            "     0     0 9344.83094    0   27 20150.0000 9344.83094  53.6%     -    0s\n",
            "     0     0 9428.65261    0   29 20150.0000 9428.65261  53.2%     -    0s\n",
            "     0     0 9436.30442    0   35 20150.0000 9436.30442  53.2%     -    0s\n",
            "     0     0 10895.8544    0   34 20150.0000 10895.8544  45.9%     -    0s\n",
            "     0     0 10923.8001    0   24 20150.0000 10923.8001  45.8%     -    0s\n",
            "     0     0 11636.4468    0   24 20150.0000 11636.4468  42.3%     -    0s\n",
            "     0     0 11688.3562    0   30 20150.0000 11688.3562  42.0%     -    0s\n",
            "     0     0 11694.9733    0   27 20150.0000 11694.9733  42.0%     -    0s\n",
            "     0     0 12149.1542    0   31 20150.0000 12149.1542  39.7%     -    0s\n",
            "     0     0 12230.1332    0   32 20150.0000 12230.1332  39.3%     -    0s\n",
            "     0     0 12238.2876    0   32 20150.0000 12238.2876  39.3%     -    0s\n",
            "     0     0 12483.2303    0   30 20150.0000 12483.2303  38.0%     -    0s\n",
            "     0     0 12483.2303    0   13 20150.0000 12483.2303  38.0%     -    0s\n",
            "     0     0 12483.2303    0   24 20150.0000 12483.2303  38.0%     -    0s\n",
            "     0     0 12483.2303    0   25 20150.0000 12483.2303  38.0%     -    0s\n",
            "     0     0 12483.2303    0   26 20150.0000 12483.2303  38.0%     -    0s\n",
            "     0     0 12507.9279    0   30 20150.0000 12507.9279  37.9%     -    0s\n",
            "     0     0 12686.4355    0   33 20150.0000 12686.4355  37.0%     -    0s\n",
            "     0     0 12853.1062    0   34 20150.0000 12853.1062  36.2%     -    0s\n",
            "     0     0 12959.6424    0   32 20150.0000 12959.6424  35.7%     -    0s\n",
            "     0     0 12974.5295    0   32 20150.0000 12974.5295  35.6%     -    0s\n",
            "     0     0 12974.5295    0   32 20150.0000 12974.5295  35.6%     -    0s\n",
            "     0     2 13558.4439    0   29 20150.0000 13558.4439  32.7%     -    0s\n",
            "H    6     3                    19800.000000 19800.0000  0.00%  16.3    0s\n",
            "\n",
            "Cutting planes:\n",
            "  Learned: 2\n",
            "  Gomory: 2\n",
            "  Cover: 7\n",
            "  Clique: 2\n",
            "  MIR: 17\n",
            "  StrongCG: 2\n",
            "  Flow cover: 7\n",
            "  GUB cover: 1\n",
            "  RLT: 1\n",
            "  Relax-and-lift: 1\n",
            "\n",
            "Explored 7 nodes (649 simplex iterations) in 0.20 seconds (0.03 work units)\n",
            "Thread count was 2 (of 2 available processors)\n",
            "\n",
            "Solution count 2: 19800 20150 \n",
            "\n",
            "Optimal solution found (tolerance 1.00e-04)\n",
            "Best objective 1.980000000000e+04, best bound 1.980000000000e+04, gap 0.0000%\n"
          ]
        }
      ]
    },
    {
      "cell_type": "markdown",
      "source": [
        "Now we have obtained the solutions for the optimization problem. Displaying the optimal value of the extension/construction cost."
      ],
      "metadata": {
        "id": "aYpjwdYn6Kf7"
      }
    },
    {
      "cell_type": "code",
      "source": [
        "# Save the optimal value\n",
        "optimal_value_Q1 = pd.DataFrame([model.objVal])\n",
        "optimal_value_Q1.index.name = \"optVal\"\n",
        "\n",
        "# Display the optimal value the extension/construction cost\n",
        "print(\"The optimal value for the extension/construction cost is:\")\n",
        "print(model.objVal)"
      ],
      "metadata": {
        "colab": {
          "base_uri": "https://localhost:8080/"
        },
        "id": "CSrzx6csTOn4",
        "outputId": "52afaca6-d97f-48f0-e531-083440540b1a"
      },
      "execution_count": 46,
      "outputs": [
        {
          "output_type": "stream",
          "name": "stdout",
          "text": [
            "The optimal value for the extension/construction cost is:\n",
            "19800.0\n"
          ]
        }
      ]
    },
    {
      "cell_type": "markdown",
      "source": [
        "Display which DCs need to be extended/constructed (binary values)"
      ],
      "metadata": {
        "id": "c--5nrzV60h8"
      }
    },
    {
      "cell_type": "code",
      "source": [
        "# Variable: x\n",
        "# Start creating a dataframe of 0 values with the right size (1 row, as many columns as the number of sites)\n",
        "optimal_x_Q1 = pd.DataFrame(0, index=range(1), columns=range(num_centers))\n",
        "optimal_x_Q1.index.name = \"x\"\n",
        "# Then, iterate on the columns of the dataframe using a for cycle\n",
        "for i in range(num_centers):\n",
        "    # Update the value of the column\n",
        "    optimal_x_Q1.iloc[0,i] = x[i].X\n",
        "    # [var.X is used to take the optimal value of variable var; note that X is capitalized]\n",
        "\n",
        "# Display the optimal solution\n",
        "print(optimal_x_Q1)"
      ],
      "metadata": {
        "colab": {
          "base_uri": "https://localhost:8080/"
        },
        "id": "L_5p8MvsTOlf",
        "outputId": "d9fedc9c-f1af-40fa-d593-29854a20e099"
      },
      "execution_count": 47,
      "outputs": [
        {
          "output_type": "stream",
          "name": "stdout",
          "text": [
            "   0  1  2  3  4  5  6  7  8\n",
            "x                           \n",
            "0  1  0  0  0  0  0  1  1  0\n"
          ]
        }
      ]
    },
    {
      "cell_type": "markdown",
      "source": [
        "Display by how much capacity does a DC need to be extended, if it needs to be extended (integer value)"
      ],
      "metadata": {
        "id": "KGpGUT2q74oh"
      }
    },
    {
      "cell_type": "code",
      "source": [
        "# Variable: y\n",
        "# Start creating a dataframe of 0 values with the right size (1 row, with 6 columns)\n",
        "optimal_y_Q1 = pd.DataFrame(0, index=range(1), columns=range(6))\n",
        "optimal_y_Q1.index.name = \"y\"\n",
        "# Then, iterate on the columns of the dataframe using a for cycle\n",
        "for i in range(6):\n",
        "    # Update the value of the column\n",
        "    optimal_y_Q1.iloc[0,i] = y[i].X\n",
        "    # [var.X is used to take the optimal value of variable var; note that X is capitalized]\n",
        "\n",
        "# Display the optimal solution\n",
        "print(optimal_y_Q1)"
      ],
      "metadata": {
        "colab": {
          "base_uri": "https://localhost:8080/"
        },
        "id": "aiOwtNQ8_wEM",
        "outputId": "f5c59a4c-b1cb-46c1-873c-4ef612ef9c08"
      },
      "execution_count": 48,
      "outputs": [
        {
          "output_type": "stream",
          "name": "stdout",
          "text": [
            "      0  1  2  3  4  5\n",
            "y                     \n",
            "0  8000  0  0  0  0  0\n"
          ]
        }
      ]
    },
    {
      "cell_type": "code",
      "source": [
        "# Report the optimal solution in the excel file\n",
        "\n",
        "with pd.ExcelWriter('/content/drive/MyDrive/data.xlsx', mode='a', if_sheet_exists='overlay') as writer:\n",
        "# Upload the dataframes on a new sheet called 'Q1', one under the other\n",
        "    optimal_value_Q1.to_excel(writer, sheet_name='Q1')\n",
        "    optimal_x_Q1.to_excel(writer, sheet_name='Q1', startrow=3)\n",
        "    optimal_y_Q1.to_excel(writer, sheet_name='Q1', startrow=6)"
      ],
      "metadata": {
        "id": "a3pNv714R5Sw"
      },
      "execution_count": 49,
      "outputs": []
    },
    {
      "cell_type": "code",
      "source": [
        "#Visualization for the Monthly delivery costs for all the stores\n",
        "sum=[0]*21\n",
        "\n",
        "# Extract the values from the Gurobi variable\n",
        "a_values = np.array([[a[i, j].x for j in range(21)] for i in range(9)])\n",
        "for j in range(21):\n",
        "  for i in range (9):\n",
        "    sum[j] = sum[j]+a_values[i,j]*t[i,j]*d[j]/1000\n",
        "\n",
        "print(\"The average Monthly delivery costs for all the stores are:\")\n",
        "print(sum)\n"
      ],
      "metadata": {
        "colab": {
          "base_uri": "https://localhost:8080/"
        },
        "id": "pYGBGxXrcAui",
        "outputId": "d60877e9-e180-4b9b-f874-6b7a8669be1c"
      },
      "execution_count": 73,
      "outputs": [
        {
          "output_type": "stream",
          "name": "stdout",
          "text": [
            "The average Monthly delivery costs for all the stores are:\n",
            "[2.06, 144.0, 143.22, 194.36, 101.25, 70.56, 72.72, 85.1, 41.58, 41.08, 23.6, 23.45, 371.48, 184.83, 1138.39, 21.72, 113.43, 100.5, 331.47, 692.25, 574.0]\n"
          ]
        }
      ]
    },
    {
      "cell_type": "code",
      "source": [
        "#Visualization for the average delivery time for all the stores\n",
        "sum=[0]*21\n",
        "\n",
        "# Extract the values from the Gurobi variable\n",
        "a_values = np.array([[a[i, j].x for j in range(21)] for i in range(9)])\n",
        "for j in range(21):\n",
        "  for i in range (9):\n",
        "    sum[j] = sum[j]+a_values[i,j]*t[i,j]\n",
        "\n",
        "print(\"The average delivery time for all the stores are:\")\n",
        "print(sum)"
      ],
      "metadata": {
        "id": "ovUs_CnOMfZ7",
        "colab": {
          "base_uri": "https://localhost:8080/"
        },
        "outputId": "793c71e2-0238-4f3a-e41e-158ddfd19ffd"
      },
      "execution_count": 57,
      "outputs": [
        {
          "output_type": "stream",
          "name": "stdout",
          "text": [
            "The average delivery time for all the stores are:\n",
            "[0.1, 3.2, 6.6, 8.6, 7.5, 1.8, 2.4, 4.6, 4.2, 2.6, 1.0, 3.5, 7.4, 10.1, 13.1, 0.2, 5.7, 5.0, 12.7, 21.3, 16.4]\n"
          ]
        }
      ]
    },
    {
      "cell_type": "code",
      "source": [
        "#Visualization for the average delivery time from all the DCs\n",
        "sum=[0]*9\n",
        "\n",
        "# Extract the values from the Gurobi variable\n",
        "a_values = np.array([[a[i, j].x for j in range(21)] for i in range(9)])\n",
        "for i in range(9):\n",
        "  for j in range (21):\n",
        "    sum[i] = sum[i]+a_values[i,j]*t[i,j]\n",
        "\n",
        "print(\"The average delivery time from all the DCs are:\")\n",
        "print(sum)"
      ],
      "metadata": {
        "colab": {
          "base_uri": "https://localhost:8080/"
        },
        "id": "tvhVxdLoV8mC",
        "outputId": "884990cd-ded2-4c31-b0e2-84732e9e27d9"
      },
      "execution_count": 58,
      "outputs": [
        {
          "output_type": "stream",
          "name": "stdout",
          "text": [
            "The average delivery time from all the DCs are:\n",
            "[5.9, 10.8, 19.7, 27.9, 10.4, 29.200000000000003, 16.4, 17.7, 0.0]\n"
          ]
        }
      ]
    },
    {
      "cell_type": "markdown",
      "source": [
        "**Comment**:  In the single source problem, the DC 1 needs to be extended by 8000 units, while DCs 7 and 8 need to be constructed, for optimizing the overall extension/construction costs. The optimization results in the minimum extension/construction cost of 19800 euros."
      ],
      "metadata": {
        "id": "KWgTKa8T8Iuv"
      }
    },
    {
      "cell_type": "markdown",
      "source": [
        "## **Question 2**: Which DCs would you build and/or extend (and how large should be the extensions) with multi-source supplying (i.e., the quantity delivered to a store can be supplied from several DCs)?\n",
        "\n",
        "\n",
        "Initializing the model and defining the decision variables"
      ],
      "metadata": {
        "id": "GlIJqUaAfXpq"
      }
    },
    {
      "cell_type": "code",
      "source": [
        "# Initialize the model\n",
        "model2 = Model('zara-Q2')\n",
        "\n",
        "# Create the variable x[i] = 1 if DC i will be extended or constructed\n",
        "x = model2.addVars(num_centers, vtype=GRB.BINARY, name='extension_construct')\n",
        "\n",
        "# create the variable y[i] to compute the extension unit if i in range(0,6)\n",
        "y = model2.addVars(6, vtype=GRB.INTEGER, name='extension_unit')\n",
        "\n",
        "# Create the variable quan[i,j] which denotes the quantity served to city j is from DC i\n",
        "quant = model2.addVars(num_centers, num_cities, vtype=GRB.INTEGER, name='quantity_deliver_site')"
      ],
      "metadata": {
        "id": "DAv1T_bYfaI8"
      },
      "execution_count": 59,
      "outputs": []
    },
    {
      "cell_type": "markdown",
      "source": [
        "Defining the input parameters"
      ],
      "metadata": {
        "id": "q6nE_gQ49uCk"
      }
    },
    {
      "cell_type": "code",
      "source": [
        "# Read in the constants\n",
        "\n",
        "# m[i] is the cost of construction or extension\n",
        "m = np.array([i for i in cost])\n",
        "print('cost: ',m)\n",
        "\n",
        "# t[i,j] is the delivery time from i to j\n",
        "t = np.array([[j for j in i] for i in time.values])\n",
        "print('Dcs and Cities: ',t.shape)\n",
        "\n",
        "# c[i] is the capacity of sites\n",
        "c = np.array([i for i in capacity])\n",
        "print('capacities: ',c)\n",
        "\n",
        "# d[j] is the demand of cities\n",
        "d = np.array([i for i in demand])\n",
        "print('demands: ',d)"
      ],
      "metadata": {
        "id": "xZKSeakbSvxM",
        "colab": {
          "base_uri": "https://localhost:8080/"
        },
        "outputId": "c110f8cc-5d36-4eb1-ddcd-58b07ed4413b"
      },
      "execution_count": 60,
      "outputs": [
        {
          "output_type": "stream",
          "name": "stdout",
          "text": [
            "cost:  [1.0e-01 1.0e-01 5.0e-01 1.0e-01 2.0e-01 5.0e-01 4.0e+03 1.5e+04 2.0e+04]\n",
            "Dcs and Cities:  (9, 21)\n",
            "capacities:  [123200.  88000. 112000.  73600.  64000. 137600.  50000.  50000.  50000.]\n",
            "demands:  [ 20600.  45000.  21700.  22600.  13500.  39200.  30300.  18500.   9900.\n",
            "  15800.  23600.   6700.  50200.  18300.  86900. 108600.  19900.  20100.\n",
            "  26100.  32500.  35000.]\n"
          ]
        }
      ]
    },
    {
      "cell_type": "markdown",
      "source": [
        "Defining all the constraints"
      ],
      "metadata": {
        "id": "-TxofXe59vbD"
      }
    },
    {
      "cell_type": "code",
      "source": [
        "# Constraint 1: Zara can construct or extend no more than 3 sites\n",
        "model2.addConstr(quicksum(x[i] for i in range(num_centers)) <= 3) \n",
        "\n",
        "# Constraint 2: If Zara decides to extend, then 8000<= yi <= 13000, else yi = 0\n",
        "for i in range(6):\n",
        "    model2.addConstr(y[i] >= 8000*x[i])\n",
        "model2.addConstrs(y[i] <= 13000*x[i] for i in range(6))\n",
        "\n",
        "# Constraint 3: Multiple source supplying. The summation of the supplies from multiple sources for a city should be greater than its demand\n",
        "for j in range(num_cities):\n",
        "    model2.addConstr(quicksum(quant[i,j] for i in range(num_centers)) >= demand[j])\n",
        "\n",
        "# Constraint 4: The total monthly delivery costs do not exceed a budget of 4500 euros\n",
        "model2.addConstr(quicksum(quant[i, j] * t[i, j] * 0.001 for i in range(num_centers) for j in range(num_cities)) <= 4500)\n",
        "\n",
        "\n",
        "# Constraint 5: The supplies must exceed the demands\n",
        "model2.addConstrs(quicksum(quant[i,j] for j in range(num_cities)) <= capacity[i]+y[i] for i in range(6)) \n",
        "model2.addConstrs(quicksum(quant[i,j] for j in range(num_cities)) <= capacity[i]*x[i] for i in range(6,9))\n",
        "\n",
        "model2.update()\n"
      ],
      "metadata": {
        "id": "H1FVnWW5fdR1"
      },
      "execution_count": 61,
      "outputs": []
    },
    {
      "cell_type": "markdown",
      "source": [
        "Set the objective function and call the solver"
      ],
      "metadata": {
        "id": "xo_BSggN90UD"
      }
    },
    {
      "cell_type": "code",
      "source": [
        "# Objective: \n",
        "model2.setObjective(quicksum(m[i]*y[i] for i in range(6))+quicksum(m[i]*x[i] for i in range(6,9)), GRB.MINIMIZE)"
      ],
      "metadata": {
        "id": "UC27khhqffr_"
      },
      "execution_count": 62,
      "outputs": []
    },
    {
      "cell_type": "code",
      "source": [
        "# Call the solver \n",
        "model2.optimize()\n"
      ],
      "metadata": {
        "colab": {
          "base_uri": "https://localhost:8080/"
        },
        "id": "Y9UlwtDtfi_9",
        "outputId": "5d88575e-9034-4c51-afc7-bc0b8f7eee4f"
      },
      "execution_count": 63,
      "outputs": [
        {
          "output_type": "stream",
          "name": "stdout",
          "text": [
            "Gurobi Optimizer version 10.0.1 build v10.0.1rc0 (linux64)\n",
            "\n",
            "CPU model: AMD EPYC 7B12, instruction set [SSE2|AVX|AVX2]\n",
            "Thread count: 1 physical cores, 2 logical processors, using up to 2 threads\n",
            "\n",
            "Optimize a model with 44 rows, 204 columns and 609 nonzeros\n",
            "Model fingerprint: 0x7c8702b4\n",
            "Variable types: 0 continuous, 204 integer (9 binary)\n",
            "Coefficient statistics:\n",
            "  Matrix range     [1e-04, 5e+04]\n",
            "  Objective range  [1e-01, 2e+04]\n",
            "  Bounds range     [1e+00, 1e+00]\n",
            "  RHS range        [3e+00, 1e+05]\n",
            "Presolve time: 0.00s\n",
            "Presolved: 44 rows, 204 columns, 609 nonzeros\n",
            "Variable types: 0 continuous, 204 integer (9 binary)\n",
            "\n",
            "Root relaxation: objective 5.660000e+03, 104 iterations, 0.00 seconds (0.00 work units)\n",
            "\n",
            "    Nodes    |    Current Node    |     Objective Bounds      |     Work\n",
            " Expl Unexpl |  Obj  Depth IntInf | Incumbent    BestBd   Gap | It/Node Time\n",
            "\n",
            "     0     0 5660.00000    0    5          - 5660.00000      -     -    0s\n",
            "H    0     0                    6100.0000000 5660.00000  7.21%     -    0s\n",
            "     0     0 5660.00000    0    5 6100.00000 5660.00000  7.21%     -    0s\n",
            "     0     0 5660.00000    0    5 6100.00000 5660.00000  7.21%     -    0s\n",
            "H    0     0                    6099.9000000 5660.00000  7.21%     -    0s\n",
            "     0     0 5660.00000    0    5 6099.90000 5660.00000  7.21%     -    0s\n",
            "H    0     0                    5660.1000000 5660.00000  0.00%     -    0s\n",
            "\n",
            "Cutting planes:\n",
            "  MIR: 1\n",
            "\n",
            "Explored 1 nodes (186 simplex iterations) in 0.05 seconds (0.00 work units)\n",
            "Thread count was 2 (of 2 available processors)\n",
            "\n",
            "Solution count 3: 5660.1 6099.9 6100 \n",
            "\n",
            "Optimal solution found (tolerance 1.00e-04)\n",
            "Best objective 5.660100000000e+03, best bound 5.660000000000e+03, gap 0.0018%\n"
          ]
        }
      ]
    },
    {
      "cell_type": "markdown",
      "source": [
        "Now we have obtained the solutions for the optimization problem. Displaying the optimal value of the extension/construction cost."
      ],
      "metadata": {
        "id": "xCyfyY4q-ELq"
      }
    },
    {
      "cell_type": "code",
      "source": [
        "# Save the optimal value\n",
        "optimal_value_Q2 = pd.DataFrame([model2.objVal])\n",
        "optimal_value_Q2.index.name = \"optVal\"\n",
        "\n",
        "# Display the optimal value the extension/construction cost\n",
        "print(\"The optimal value for the extension/construction cost is:\")\n",
        "print(model2.objVal)"
      ],
      "metadata": {
        "colab": {
          "base_uri": "https://localhost:8080/"
        },
        "id": "E8w9htYDfmXW",
        "outputId": "a5c34221-3fc3-416d-8e78-86a832276114"
      },
      "execution_count": 64,
      "outputs": [
        {
          "output_type": "stream",
          "name": "stdout",
          "text": [
            "The optimal value for the extension/construction cost is:\n",
            "5660.1\n"
          ]
        }
      ]
    },
    {
      "cell_type": "markdown",
      "source": [
        "Display which DCs need to be extended/constructed (binary values)"
      ],
      "metadata": {
        "id": "GMyBJrpw-gjR"
      }
    },
    {
      "cell_type": "code",
      "source": [
        "# Variable: x\n",
        "# Start creating a dataframe of 0 values with the right size (1 row, as many columns as the number of sites)\n",
        "optimal_x_Q2 = pd.DataFrame(0, index=range(1), columns=range(num_centers))\n",
        "optimal_x_Q2.index.name = \"x\"\n",
        "# Then, iterate on the columns of the dataframe using a for cycle\n",
        "for i in range(num_centers):\n",
        "    # Update the value of the column\n",
        "    optimal_x_Q2.iloc[0,i] = x[i].X\n",
        "    # [var.X is used to take the optimal value of variable var; note that X is capitalized]\n",
        "\n",
        "# Display the optimal solution\n",
        "print(optimal_x_Q2)"
      ],
      "metadata": {
        "colab": {
          "base_uri": "https://localhost:8080/"
        },
        "id": "y73jgETifotx",
        "outputId": "4e9a85d2-1cb5-412c-b915-963aef42d7d5"
      },
      "execution_count": 65,
      "outputs": [
        {
          "output_type": "stream",
          "name": "stdout",
          "text": [
            "   0  1  2  3  4  5  6  7  8\n",
            "x                           \n",
            "0  1  0  0  1  0  0  1  0  0\n"
          ]
        }
      ]
    },
    {
      "cell_type": "markdown",
      "source": [
        "Display by how much capacity does a DC need to be extended, if it needs to be extended (integer value)"
      ],
      "metadata": {
        "id": "9TREaBFn-pKr"
      }
    },
    {
      "cell_type": "code",
      "source": [
        "# Variable: y\n",
        "# start creating a dataframe of 0 values with the right size (1 row, with 6 columns)\n",
        "optimal_y_Q2 = pd.DataFrame(0, index=range(1), columns=range(6))\n",
        "optimal_y_Q2.index.name = \"y\"\n",
        "# Iterate on the columns of the dataframe using a for cycle\n",
        "for i in range(6):\n",
        "    # Update the value of the column\n",
        "    optimal_y_Q2.iloc[0,i] = y[i].X\n",
        "    # [var.X is used to take the optimal value of variable var; note that X is capitalized]\n",
        "\n",
        "# Display the optimal solution\n",
        "print(optimal_y_Q2)"
      ],
      "metadata": {
        "colab": {
          "base_uri": "https://localhost:8080/"
        },
        "id": "5CPxFahj90CL",
        "outputId": "90dca85e-a9d9-42f2-c1ce-a19c03e682c9"
      },
      "execution_count": 66,
      "outputs": [
        {
          "output_type": "stream",
          "name": "stdout",
          "text": [
            "      0  1  2     3  4  5\n",
            "y                        \n",
            "0  8600  0  0  8001  0  0\n"
          ]
        }
      ]
    },
    {
      "cell_type": "code",
      "source": [
        "# Report the optimal solution in the excel file\n",
        "\n",
        "with pd.ExcelWriter('/content/drive/MyDrive/data.xlsx', mode='a', if_sheet_exists='overlay') as writer:\n",
        "# Upload the dataframes a new sheet called 'Q2', one under the other\n",
        "    optimal_value_Q2.to_excel(writer, sheet_name='Q2')\n",
        "    optimal_x_Q2.to_excel(writer, sheet_name='Q2', startrow=3)\n",
        "    optimal_y_Q2.to_excel(writer, sheet_name='Q2', startrow=6)"
      ],
      "metadata": {
        "id": "k0_DWoiefrtF"
      },
      "execution_count": 67,
      "outputs": []
    },
    {
      "cell_type": "code",
      "source": [
        "#Visualization for the average delivery time for all the stores\n",
        "sum=[0]*21\n",
        "sum_quant_across_rows = [0]*21\n",
        "\n",
        "# Extract the values from the Gurobi variable\n",
        "quant_values = np.array([[quant[i, j].x for j in range(21)] for i in range(9)])\n",
        "for j in range(21):\n",
        "  for i in range (9):\n",
        "    sum_quant_across_rows[j]=sum_quant_across_rows[j]+quant_values[i,j]\n",
        "    sum[j] = sum[j]+quant_values[i,j]*t[i,j]\n",
        "  sum[j]=sum[j]/sum_quant_across_rows[j]\n",
        "\n",
        "print(\"The average delivery time for all the stores are:\")\n",
        "print(sum)"
      ],
      "metadata": {
        "colab": {
          "base_uri": "https://localhost:8080/"
        },
        "id": "89f2u3ZwWtAK",
        "outputId": "8e65db95-fb68-4884-9dea-b44ac54436fa"
      },
      "execution_count": 68,
      "outputs": [
        {
          "output_type": "stream",
          "name": "stdout",
          "text": [
            "The average delivery time for all the stores are:\n",
            "[0.1, 2.8302222222222224, 11.4, 7.9, 7.5, 1.8, 5.075247524752475, 4.6, 2.9, 2.6, 1.0, 3.5, 7.4, 10.1, 7.935420023014959, 5.685491712707181, 11.4, 11.9, 6.0, 18.958043076923072, 9.0]\n"
          ]
        }
      ]
    },
    {
      "cell_type": "code",
      "source": [
        "#Visualization for the average delivery time from all the DCs\n",
        "sum=[0]*9\n",
        "sum_quant_across_columns = [0]*9\n",
        "\n",
        "# Extract the values from the Gurobi variable\n",
        "quant_values = np.array([[quant[i, j].x for j in range(21)] for i in range(9)])\n",
        "for i in range(9):\n",
        "  for j in range (21):\n",
        "    sum_quant_across_columns[i]=sum_quant_across_columns[i]+quant_values[i,j]\n",
        "    sum[i] = sum[i]+quant_values[i,j]*t[i,j]\n",
        "  sum[i]=sum[i]/sum_quant_across_columns[i]\n",
        "\n",
        "print(\"The average delivery time from all the DCs are:\")\n",
        "print(sum)"
      ],
      "metadata": {
        "colab": {
          "base_uri": "https://localhost:8080/"
        },
        "id": "L2vhwl3VbHNL",
        "outputId": "d63a710d-a104-4bdf-9b69-c25711f06a5b"
      },
      "execution_count": 69,
      "outputs": [
        {
          "output_type": "stream",
          "name": "stdout",
          "text": [
            "The average delivery time from all the DCs are:\n",
            "[3.8449908952959033, 5.1560227272727275, 13.161348214285715, 7.654527518045121, 3.0178125, 5.547165697674418, 9.687811756235124, nan, nan]\n"
          ]
        },
        {
          "output_type": "stream",
          "name": "stderr",
          "text": [
            "<ipython-input-69-35d5b4e29502>:11: RuntimeWarning: invalid value encountered in double_scalars\n",
            "  sum[i]=sum[i]/sum_quant_across_columns[i]\n"
          ]
        }
      ]
    },
    {
      "cell_type": "code",
      "source": [
        "#Visualization for the Monthly delivery costs for all the stores\n",
        "\n",
        "sum=[0]*21\n",
        "\n",
        "# Extract the values from the Gurobi variable\n",
        "quant_values = np.array([[quant[i, j].x for j in range(21)] for i in range(9)])\n",
        "for j in range(21):\n",
        "  for i in range (9):\n",
        "    sum[j] = sum[j]+quant_values[i,j]*t[i,j]*0.001\n",
        "\n",
        "print(\"The average Monthly delivery costs for all the stores are (Multiple source):\")\n",
        "print(sum)\n"
      ],
      "metadata": {
        "colab": {
          "base_uri": "https://localhost:8080/"
        },
        "id": "IWUPOnohePV0",
        "outputId": "0ff90135-18e9-44e0-87f8-f2973c035df7"
      },
      "execution_count": 74,
      "outputs": [
        {
          "output_type": "stream",
          "name": "stdout",
          "text": [
            "The average Monthly delivery costs for all the stores are (Multiple source):\n",
            "[2.06, 127.36000000000001, 247.38, 178.54, 101.25, 70.56, 153.78, 85.10000000000001, 28.71, 41.08, 23.6, 23.45, 371.48, 184.83, 689.588, 617.4444, 226.86, 239.19, 156.6, 616.1363999999999, 315.0]\n"
          ]
        }
      ]
    },
    {
      "cell_type": "markdown",
      "source": [
        "**Comment**:  In the multiple source problem, the DCs 1 and 4 need to be extended by 8600 units and 8001 units respectively, while DC 7 needs to be constructed, for optimizing the overall extension/construction costs. The optimization results in the minimum extension/construction cost of 5660.1 euros."
      ],
      "metadata": {
        "id": "9jvHusXT-wEM"
      }
    }
  ],
  "metadata": {
    "colab": {
      "provenance": []
    },
    "kernelspec": {
      "display_name": "Python 3",
      "name": "python3"
    },
    "language_info": {
      "name": "python"
    }
  },
  "nbformat": 4,
  "nbformat_minor": 0
}